{
 "cells": [
  {
   "attachments": {},
   "cell_type": "markdown",
   "metadata": {},
   "source": [
    "## USEFUL PACKAGES"
   ]
  },
  {
   "cell_type": "code",
   "execution_count": 1,
   "metadata": {},
   "outputs": [],
   "source": [
    "import pandas as pd\n",
    "import numpy as np\n",
    "import xml.etree.ElementTree as ET\n",
    "import os\n",
    "import matplotlib.pyplot as plt\n",
    "import emoji\n",
    "import re\n",
    "from itertools import cycle\n",
    "%matplotlib inline\n",
    "import seaborn as sns\n",
    "import plotly.express as px\n",
    "import warnings\n",
    "# Para tratamientos de texto\n",
    "import nltk\n",
    "from nltk.corpus import stopwords\n",
    "from nltk.stem.snowball import SnowballStemmer\n",
    "import spacy\n",
    "import es_core_news_md\n",
    "from spellchecker import SpellChecker\n",
    "\n",
    "# Modelos Scikit-learn\n",
    "from sklearn.utils import shuffle\n",
    "from sklearn.model_selection import GridSearchCV\n",
    "from sklearn.pipeline import Pipeline\n",
    "from sklearn.preprocessing import StandardScaler,label_binarize\n",
    "from sklearn.linear_model import LogisticRegression\n",
    "from sklearn.svm import LinearSVC, SVC\n",
    "from sklearn.naive_bayes import GaussianNB\n",
    "from sklearn.ensemble import RandomForestClassifier,VotingClassifier,HistGradientBoostingClassifier,GradientBoostingClassifier,StackingClassifier\n",
    "\n",
    "# Evaluacion\n",
    "from sklearn.metrics import confusion_matrix, classification_report, accuracy_score,balanced_accuracy_score,precision_score,f1_score,average_precision_score\n",
    "from sklearn.metrics import roc_curve,auc, roc_auc_score\n",
    "from sklearn.metrics import RocCurveDisplay\n",
    "\n",
    "\n",
    "\n",
    "#---------------------------------------------------------------------------------#\n",
    "warnings.filterwarnings('ignore')"
   ]
  },
  {
   "cell_type": "code",
   "execution_count": 2,
   "metadata": {},
   "outputs": [],
   "source": [
    "def read_dataset(path):\n",
    "    tree = ET.parse(path)\n",
    "    root = tree.getroot()\n",
    "    value = []\n",
    "    for sentiment in root.iter('sentiment'):\n",
    "        for polarity in sentiment.iter('polarity'):\n",
    "            for deep_tag in polarity:\n",
    "            #print(deep_tag.text)\n",
    "                value.append(deep_tag.text)\n",
    "    df = pd.read_xml(path)\n",
    "    df['sentiment'] = value\n",
    "    return df"
   ]
  },
  {
   "attachments": {},
   "cell_type": "markdown",
   "metadata": {},
   "source": [
    "## Corpus 2018"
   ]
  },
  {
   "cell_type": "code",
   "execution_count": 3,
   "metadata": {},
   "outputs": [],
   "source": [
    "df_train_2018 = pd.DataFrame()\n",
    "for filename in os.listdir('../data2018/train/'):\n",
    "    df_initial_2018 = read_dataset('../data2018/train/'+filename)\n",
    "    df_train_2018 = pd.concat([df_train_2018,df_initial_2018])\n",
    "df_train_2018 = df_train_2018[['tweetid', 'content', 'sentiment']]\n",
    "df_train_2018.columns = ['id', 'tweet', 'classification']"
   ]
  },
  {
   "attachments": {},
   "cell_type": "markdown",
   "metadata": {},
   "source": [
    "## CORPUS 2019"
   ]
  },
  {
   "cell_type": "code",
   "execution_count": 4,
   "metadata": {},
   "outputs": [],
   "source": [
    "df_train_2019 = pd.DataFrame()\n",
    "for filename in os.listdir('../data2019/train/'):\n",
    "    df_initial_2019 = read_dataset('../data2019/train/'+filename)\n",
    "    df_train_2019 = pd.concat([df_train_2019,df_initial_2019])\n",
    "df_train_2019 = df_train_2019[['tweetid', 'content', 'sentiment']]\n",
    "df_train_2019.columns = ['id', 'tweet', 'classification']"
   ]
  },
  {
   "attachments": {},
   "cell_type": "markdown",
   "metadata": {},
   "source": [
    "## DATASET 2020"
   ]
  },
  {
   "cell_type": "code",
   "execution_count": 5,
   "metadata": {},
   "outputs": [
    {
     "data": {
      "text/html": [
       "<div>\n",
       "<style scoped>\n",
       "    .dataframe tbody tr th:only-of-type {\n",
       "        vertical-align: middle;\n",
       "    }\n",
       "\n",
       "    .dataframe tbody tr th {\n",
       "        vertical-align: top;\n",
       "    }\n",
       "\n",
       "    .dataframe thead th {\n",
       "        text-align: right;\n",
       "    }\n",
       "</style>\n",
       "<table border=\"1\" class=\"dataframe\">\n",
       "  <thead>\n",
       "    <tr style=\"text-align: right;\">\n",
       "      <th></th>\n",
       "      <th>id</th>\n",
       "      <th>tweet</th>\n",
       "      <th>classification</th>\n",
       "    </tr>\n",
       "  </thead>\n",
       "  <tbody>\n",
       "    <tr>\n",
       "      <th>0</th>\n",
       "      <td>809927403615256576</td>\n",
       "      <td>En definitiva! Me quedé sin campo para ir a Ta...</td>\n",
       "      <td>0</td>\n",
       "    </tr>\n",
       "  </tbody>\n",
       "</table>\n",
       "</div>"
      ],
      "text/plain": [
       "                   id                                              tweet  \\\n",
       "0  809927403615256576  En definitiva! Me quedé sin campo para ir a Ta...   \n",
       "\n",
       "   classification  \n",
       "0               0  "
      ]
     },
     "execution_count": 5,
     "metadata": {},
     "output_type": "execute_result"
    }
   ],
   "source": [
    "df_initial_1 = pd.DataFrame()\n",
    "for filename in os.listdir('../data/train/'):\n",
    "    df_country = pd.read_csv('../data/train/'+ filename, sep='\\t', names=['id','tweet','classification'])\n",
    "    #df_country['fuente'] = filename+'train'\n",
    "    df_initial_1 = pd.concat([df_initial_1, df_country])\n",
    "df_initial_2 = pd.DataFrame()\n",
    "for filename in os.listdir('../data/dev/'):\n",
    "    df_country = pd.read_csv('../data/dev/'+ filename, sep='\\t', names=['id','tweet','classification'])\n",
    "    #df_country['fuente'] = filename+'dev'\n",
    "    df_initial_2 = pd.concat([df_initial_2, df_country])\n",
    "\n",
    "df_initial = pd.concat([df_initial_1,df_initial_2])\n",
    "df_initial = df_initial.drop_duplicates(subset='id')\n",
    "df_initial = df_initial.replace({'classification':{'N':0,'NEU':1,'P':2}})\n",
    "df_initial.head(1)"
   ]
  },
  {
   "cell_type": "code",
   "execution_count": 6,
   "metadata": {},
   "outputs": [],
   "source": [
    "df_final_test = pd.DataFrame()\n",
    "for filename in os.listdir('../data/test/'):\n",
    "    df_country_test = pd.read_csv('../data/test/'+ filename, sep='\\t', names=['id','tweet'])\n",
    "    #df_country_test['fuente'] = filename+'test'\n",
    "    df_final_test = pd.concat([df_final_test, df_country_test])\n",
    "\n",
    "df_final_sentiment = pd.DataFrame()\n",
    "for filename in os.listdir('../data/testgold/'):\n",
    "    df_country_testgold = pd.read_csv('../data/testgold/'+ filename, sep='\\t', names=['id','classification'])\n",
    "    #df_country_testgold['fuente'] = filename+'test'\n",
    "    df_final_sentiment = pd.concat([df_final_sentiment, df_country_testgold])\n",
    "\n",
    "df_final = df_final_test.merge(df_final_sentiment, how = 'left', on = 'id')   \n",
    "df_final = df_final.replace({'classification':{'N':0,'NEU':1,'P':2}})\n",
    "df_final = df_final.drop_duplicates(subset='id')\n"
   ]
  },
  {
   "cell_type": "code",
   "execution_count": 7,
   "metadata": {},
   "outputs": [
    {
     "data": {
      "text/html": [
       "<div>\n",
       "<style scoped>\n",
       "    .dataframe tbody tr th:only-of-type {\n",
       "        vertical-align: middle;\n",
       "    }\n",
       "\n",
       "    .dataframe tbody tr th {\n",
       "        vertical-align: top;\n",
       "    }\n",
       "\n",
       "    .dataframe thead th {\n",
       "        text-align: right;\n",
       "    }\n",
       "</style>\n",
       "<table border=\"1\" class=\"dataframe\">\n",
       "  <thead>\n",
       "    <tr style=\"text-align: right;\">\n",
       "      <th></th>\n",
       "      <th>id</th>\n",
       "      <th>tweet</th>\n",
       "    </tr>\n",
       "    <tr>\n",
       "      <th>classification</th>\n",
       "      <th></th>\n",
       "      <th></th>\n",
       "    </tr>\n",
       "  </thead>\n",
       "  <tbody>\n",
       "    <tr>\n",
       "      <th>0</th>\n",
       "      <td>2939</td>\n",
       "      <td>2939</td>\n",
       "    </tr>\n",
       "    <tr>\n",
       "      <th>1</th>\n",
       "      <td>1966</td>\n",
       "      <td>1966</td>\n",
       "    </tr>\n",
       "    <tr>\n",
       "      <th>2</th>\n",
       "      <td>2359</td>\n",
       "      <td>2359</td>\n",
       "    </tr>\n",
       "  </tbody>\n",
       "</table>\n",
       "</div>"
      ],
      "text/plain": [
       "                  id  tweet\n",
       "classification             \n",
       "0               2939   2939\n",
       "1               1966   1966\n",
       "2               2359   2359"
      ]
     },
     "execution_count": 7,
     "metadata": {},
     "output_type": "execute_result"
    }
   ],
   "source": [
    "df_final.groupby('classification').count()"
   ]
  },
  {
   "cell_type": "code",
   "execution_count": 8,
   "metadata": {},
   "outputs": [
    {
     "data": {
      "text/plain": [
       "(7264, 3)"
      ]
     },
     "execution_count": 8,
     "metadata": {},
     "output_type": "execute_result"
    }
   ],
   "source": [
    "df_final.shape"
   ]
  },
  {
   "cell_type": "code",
   "execution_count": 9,
   "metadata": {},
   "outputs": [
    {
     "data": {
      "text/html": [
       "<div>\n",
       "<style scoped>\n",
       "    .dataframe tbody tr th:only-of-type {\n",
       "        vertical-align: middle;\n",
       "    }\n",
       "\n",
       "    .dataframe tbody tr th {\n",
       "        vertical-align: top;\n",
       "    }\n",
       "\n",
       "    .dataframe thead th {\n",
       "        text-align: right;\n",
       "    }\n",
       "</style>\n",
       "<table border=\"1\" class=\"dataframe\">\n",
       "  <thead>\n",
       "    <tr style=\"text-align: right;\">\n",
       "      <th></th>\n",
       "      <th>id</th>\n",
       "      <th>tweet</th>\n",
       "    </tr>\n",
       "    <tr>\n",
       "      <th>classification</th>\n",
       "      <th></th>\n",
       "      <th></th>\n",
       "    </tr>\n",
       "  </thead>\n",
       "  <tbody>\n",
       "    <tr>\n",
       "      <th>0</th>\n",
       "      <td>2835</td>\n",
       "      <td>2835</td>\n",
       "    </tr>\n",
       "    <tr>\n",
       "      <th>1</th>\n",
       "      <td>2315</td>\n",
       "      <td>2315</td>\n",
       "    </tr>\n",
       "    <tr>\n",
       "      <th>2</th>\n",
       "      <td>2093</td>\n",
       "      <td>2093</td>\n",
       "    </tr>\n",
       "  </tbody>\n",
       "</table>\n",
       "</div>"
      ],
      "text/plain": [
       "                  id  tweet\n",
       "classification             \n",
       "0               2835   2835\n",
       "1               2315   2315\n",
       "2               2093   2093"
      ]
     },
     "execution_count": 9,
     "metadata": {},
     "output_type": "execute_result"
    }
   ],
   "source": [
    "df_initial.groupby('classification').count()"
   ]
  },
  {
   "cell_type": "code",
   "execution_count": 10,
   "metadata": {},
   "outputs": [
    {
     "name": "stdout",
     "output_type": "stream",
     "text": [
      "0    2835\n",
      "1    2315\n",
      "2    2093\n",
      "Name: classification, dtype: int64\n",
      "Tamaño del dataset: (7243, 3)\n"
     ]
    },
    {
     "data": {
      "image/png": "[encoded data removed]",
      "text/plain": [
       "<Figure size 500x500 with 1 Axes>"
      ]
     },
     "metadata": {},
     "output_type": "display_data"
    }
   ],
   "source": [
    "# Comprobamos distribución de la etiqueta 'classification'\n",
    "sns.displot(df_initial.classification)\n",
    "plt.title('Volumen de tweets por etiqueta');\n",
    "print(df_initial.classification.value_counts())\n",
    "print('Tamaño del dataset:', df_initial.shape)"
   ]
  },
  {
   "cell_type": "code",
   "execution_count": 11,
   "metadata": {},
   "outputs": [
    {
     "data": {
      "text/plain": [
       "(0.0, 40.0)"
      ]
     },
     "execution_count": 11,
     "metadata": {},
     "output_type": "execute_result"
    },
    {
     "data": {
      "image/png": "[encoded data removed]",
      "text/plain": [
       "<Figure size 500x500 with 1 Axes>"
      ]
     },
     "metadata": {},
     "output_type": "display_data"
    }
   ],
   "source": [
    "def count_words(df):\n",
    "    count = 0\n",
    "    for word in df.split():\n",
    "        count += 1\n",
    "    return count\n",
    "#------------------------------------------------------------------------------------#\n",
    "## recortar el eje x hasta 100 para mejorar la visualizacion.\n",
    "ax = sns.displot(df_initial['tweet'].apply(count_words))\n",
    "plt.xlim(0,40)"
   ]
  },
  {
   "attachments": {},
   "cell_type": "markdown",
   "metadata": {},
   "source": [
    "### Funciones para tratamiento de datos\n",
    "\n",
    "\n",
    "* Debemos tener que estos tweets no están normalizados y por lo tanto debemos diseñar funciones que no permitan normalizar las expreciones escritas, quitar, emojis y corregir algunas otras cosas para no tener palabras que aunque signifiquen lo mismo parezcan diferentes."
   ]
  },
  {
   "cell_type": "code",
   "execution_count": 12,
   "metadata": {},
   "outputs": [],
   "source": [
    "# Eliminamos signos de puntuación y sustituimos por espacios en blanco\n",
    "\n",
    "def remove_punctuation_space(df):\n",
    "    PUNCTUATION = re.compile(\"\"\"(\\-)|(\\,)|(\\..)|(\\...)|(\\....)|(\\.....)|(\\......)|(\\.......)\"\"\")\n",
    "    \n",
    "    return \" \".join([PUNCTUATION.sub(\" \", word.lower()) for word in df.split()])"
   ]
  },
  {
   "cell_type": "code",
   "execution_count": 13,
   "metadata": {},
   "outputs": [],
   "source": [
    "# Eliminamos signos de puntuación sin reemplazo\n",
    "\n",
    "def remove_punctuation(df):\n",
    "    PUNCTUATION = re.compile(\"\"\"(\\.)|(\\;)|(\\:)|(\\!)|(\\?)|(\\¡)|(\\¿)| \\\n",
    "    (\\\")|(\\()|(\\))|(\\[)|(\\])|(\\d+)|(\\/)|(\\“)|(\\”)|(\\')|(\\-)|(\\\")|(\\*)\"\"\")\n",
    "    \n",
    "    return \" \".join([PUNCTUATION.sub(\"\", word.lower()) for word in df.split()])"
   ]
  },
  {
   "cell_type": "code",
   "execution_count": 14,
   "metadata": {},
   "outputs": [],
   "source": [
    "# Corregimos abreviaciones\n",
    "def fix_abbr(x):\n",
    "    if type(x) == list:\n",
    "        words = x\n",
    "    elif type(x) == str:\n",
    "        words = x.split()\n",
    "    else:\n",
    "        raise TypeError('El formato no es válido, debe ser lista o str')\n",
    "\n",
    "    abbrevs = {'d': 'de',\n",
    "               'x': 'por',\n",
    "               'xa': 'para',\n",
    "               'as': 'has',\n",
    "               'q': 'que',\n",
    "               'k': 'que',\n",
    "               'dl': 'del',\n",
    "               'xq': 'porqué',\n",
    "               'dr': 'doctor',\n",
    "               'dra': 'doctora',\n",
    "               'sr': 'señor',\n",
    "               'sra': 'señora',\n",
    "               'm': 'me'}\n",
    "    return \" \".join([abbrevs[word] if word in abbrevs.keys() else word for word in words])"
   ]
  },
  {
   "cell_type": "code",
   "execution_count": 15,
   "metadata": {},
   "outputs": [],
   "source": [
    "\n",
    "# Sustituimos links por {link}\n",
    "def remove_links(df):\n",
    "    return \" \".join(['{link}' if ('http') in word else word for word in df.split()])"
   ]
  },
  {
   "cell_type": "code",
   "execution_count": 16,
   "metadata": {},
   "outputs": [],
   "source": [
    "# Eliminamos vocales repetidas\n",
    "    \n",
    "def remove_repeated_vocals(df):\n",
    "    \n",
    "    list_new_word = []\n",
    "\n",
    "    for word in df.split(): #separamos en palabras\n",
    "        new_word = []\n",
    "        pos = 0\n",
    "        \n",
    "        for letra in word: #separamos cada palabra en letras\n",
    "            #print(word, letra, pos, '-', new_word)\n",
    "            if pos>0:\n",
    "                if letra in ('a', 'e', 'i', 'o', 'u') and letra == new_word[pos-1]:\n",
    "                    None\n",
    "                else:\n",
    "                    new_word.append(letra)\n",
    "                    pos +=1\n",
    "            else:\n",
    "                new_word.append(letra)\n",
    "            \n",
    "                pos += 1\n",
    "        else:\n",
    "            list_new_word.append(\"\".join(new_word))\n",
    "                \n",
    "    return \" \".join(list_new_word)"
   ]
  },
  {
   "cell_type": "code",
   "execution_count": 17,
   "metadata": {},
   "outputs": [],
   "source": [
    "# Normalizamos risas 'jajaja', 'jejeje', 'jojojo'\n",
    "    \n",
    "def normalize_laughts(df):\n",
    "    \n",
    "    list_new_words = []\n",
    "    for word in df.split(): #separamos en palabras\n",
    "        count = 0\n",
    "        vocals_dicc = {'a': 0, 'e': 0, 'i': 0, 'o':0, 'u':0}\n",
    "        \n",
    "        for letra in word:\n",
    "            #print(word)\n",
    "            if letra == 'j':\n",
    "                count+=1\n",
    "            if letra in vocals_dicc.keys():\n",
    "                vocals_dicc[letra] += 1\n",
    "        else:\n",
    "            if count>3:\n",
    "                dicc_risa = {'a': 'jaja', 'e': 'jeje', 'i': 'jiji', 'o': 'jojo', 'u': 'juju'}\n",
    "                risa_type = max(vocals_dicc, key= lambda x: vocals_dicc[x]) #Indica si es a,e,i,o,u\n",
    "                list_new_words.append(dicc_risa[risa_type])\n",
    "            else:\n",
    "                list_new_words.append(word)\n",
    "    \n",
    "    return \" \".join(list_new_words)"
   ]
  },
  {
   "cell_type": "code",
   "execution_count": 18,
   "metadata": {},
   "outputs": [],
   "source": [
    "# Sustituimos hashtag por {hash}\n",
    "def remove_hashtags(df):\n",
    "    return \" \".join(['{hash}' if word.startswith('#') else word for word in df.split()])"
   ]
  },
  {
   "cell_type": "code",
   "execution_count": 19,
   "metadata": {},
   "outputs": [],
   "source": [
    "# Sustituimos menciones por {mencion}\n",
    "def remove_mentions(df):\n",
    "    return \" \".join(['{menc}' if word.startswith('“@') or word.startswith('@') else word for word in df.split()])"
   ]
  },
  {
   "cell_type": "code",
   "execution_count": 20,
   "metadata": {},
   "outputs": [],
   "source": [
    "# Función para identificar los 'emojis' tradicionales\n",
    "\n",
    "def transform_icons(df):\n",
    "    word_list = []\n",
    "    pos_emojis = [':)', ':D', ':))', ':)))', 'xD', 'xd', 'XD']\n",
    "    neg_emojis = [':(', \":'(\", '>:(', ':,(', \":((\"]\n",
    "    for word in df.split():\n",
    "        if word in neg_emojis:\n",
    "            word = '{emoji_neg}'\n",
    "            word_list.append(word)\n",
    "        elif word in pos_emojis:\n",
    "            word = '{emoji_pos}'\n",
    "            word_list.append(word)\n",
    "        elif ':O' in word:\n",
    "            word = '{emoji_neu}'\n",
    "            word_list.append(word)\n",
    "        else:\n",
    "            word_list.append(word)\n",
    "    return \" \".join(word_list)"
   ]
  },
  {
   "cell_type": "code",
   "execution_count": 21,
   "metadata": {},
   "outputs": [],
   "source": [
    "# Separamos emojis que vengan juntos\n",
    "def sep_emojis(df):\n",
    "    words_list = []\n",
    "    for token in df.split():\n",
    "        new_word = []\n",
    "        for letra in token:\n",
    "            if letra in emoji.UNICODE_EMOJI['es']:\n",
    "                words_list.append(letra)\n",
    "            else:\n",
    "                new_word.append(letra)\n",
    "        else:\n",
    "            words_list.append(\"\".join(new_word))\n",
    "\n",
    "    return (\" \".join(word for word in words_list if word != ''))"
   ]
  },
  {
   "cell_type": "code",
   "execution_count": 22,
   "metadata": {},
   "outputs": [
    {
     "name": "stderr",
     "output_type": "stream",
     "text": [
      "[nltk_data] Downloading package stopwords to\n",
      "[nltk_data]     C:\\Users\\smath\\AppData\\Roaming\\nltk_data...\n",
      "[nltk_data]   Package stopwords is already up-to-date!\n"
     ]
    }
   ],
   "source": [
    "# Eliminamos stopwords\n",
    "nltk.download('stopwords')\n",
    "spanish_stopwords = stopwords.words('spanish')\n",
    "non_stopwords = ['no', 'ni', 'poco', 'mucho', 'nada', 'muchos', 'muy', 'nosotros',\n",
    "                 'nosotras', 'vosotros', 'vosotras', 'ellos', 'ellas', 'ella', 'él', 'tu', 'tú', 'yo',\n",
    "                 'pero', 'hasta', 'contra', 'por']\n",
    "spanish_stopwords = [word for word in stopwords.words('spanish') if word not in non_stopwords]\n",
    "\n",
    "def remove_stopwords(df):\n",
    "    return \" \".join([word for word in df.split() if word not in spanish_stopwords])"
   ]
  },
  {
   "cell_type": "code",
   "execution_count": 23,
   "metadata": {},
   "outputs": [],
   "source": [
    "# Función para stemizar\n",
    "def stem(df):\n",
    "    stemmer = SnowballStemmer('spanish')\n",
    "    return \" \".join([stemmer.stem(word) for word in df.split()])"
   ]
  },
  {
   "cell_type": "code",
   "execution_count": 24,
   "metadata": {},
   "outputs": [],
   "source": [
    "# Función para lematizar\n",
    "# Creamos el objeto\n",
    "spacy.prefer_gpu() # or spacy.require_gpu()\n",
    "nlp = spacy.load(\"es_core_news_md\")\n",
    "\n",
    "\n",
    "# Definimos función\n",
    "def lemmatizer(df):\n",
    "    word_list = []\n",
    "    doc = nlp(df)\n",
    "    for tok in doc:\n",
    "        if str(tok) == 'menc':\n",
    "              word_list.append('{menc}')\n",
    "        elif str(tok) == 'hash':\n",
    "              word_list.append('{hash}')\n",
    "        elif str(tok) == 'link':\n",
    "              word_list.append('{link}')\n",
    "        elif str(tok) == 'emoji_pos':\n",
    "              word_list.append('{emoji_pos}')\n",
    "        elif str(tok) == 'emoji_neu':\n",
    "              word_list.append('{emoji_neu}')\n",
    "        elif str(tok) == 'emoji_neg':\n",
    "              word_list.append('{emoji_neg}')\n",
    "        elif str(tok) == 'eur':\n",
    "              word_list.append('{eur}')\n",
    "        else:\n",
    "            word_list.append(tok.lemma_.lower())\n",
    "\n",
    "    return \" \".join([word for word in word_list if (word != '{') and (word!='}')])  "
   ]
  },
  {
   "cell_type": "code",
   "execution_count": 25,
   "metadata": {},
   "outputs": [],
   "source": [
    "# Función para corregir las palabras\n",
    "\n",
    "spell = SpellChecker(language='es', distance=1)\n",
    "\n",
    "def correcting_words(df):\n",
    "    misspelled = spell.unknown(df.split())\n",
    "    return \" \".join(filter(None,[spell.correction(word) if word in misspelled else word for word in df.split()]))"
   ]
  },
  {
   "cell_type": "code",
   "execution_count": 26,
   "metadata": {},
   "outputs": [],
   "source": [
    "def remove_eur(df):\n",
    "    wlist = ['{eur}' if ('€' in word) | ('euro' in word) | ('$' in word) else word for word in df.split()]\n",
    "    return \" \".join(wlist)"
   ]
  },
  {
   "cell_type": "code",
   "execution_count": 27,
   "metadata": {},
   "outputs": [],
   "source": [
    "# Put it all together\n",
    "\n",
    "def transform_tweets(df, mode='lemma'):\n",
    "    \n",
    "    df = remove_links(df)\n",
    "    df = remove_punctuation_space(df)\n",
    "    df = remove_mentions(df)    \n",
    "    df = remove_hashtags(df)\n",
    "    df = remove_eur(df)\n",
    "    df = transform_icons(df)\n",
    "    df = sep_emojis(df)\n",
    "   # df = transform_emoji(df)\n",
    "    df = normalize_laughts(df)\n",
    "    df = remove_punctuation(df)\n",
    "    df = remove_repeated_vocals(df)\n",
    "    df = correcting_words(df)\n",
    "    df = fix_abbr(df)\n",
    "    df = remove_stopwords(df)\n",
    "    if mode=='lemma':\n",
    "        df = lemmatizer(df)\n",
    "    elif mode=='stem':\n",
    "        df = stem(df)\n",
    "    else:\n",
    "        raise TypeError('Invalid mode. Must be \"lemma\" or \"stem\"') \n",
    "    df = remove_stopwords(df)                    \n",
    "    return df"
   ]
  },
  {
   "attachments": {},
   "cell_type": "markdown",
   "metadata": {},
   "source": [
    "El stemizado es mejor para usar en ingles, es mejor el lemetizado para lenguas romance"
   ]
  },
  {
   "cell_type": "code",
   "execution_count": 28,
   "metadata": {},
   "outputs": [
    {
     "name": "stdout",
     "output_type": "stream",
     "text": [
      "Tweet original:\n",
      " Nos encanta hacerte feliz @rubndu\n",
      "Tweet lematizado:\n",
      " encantar hacer tú feliz\n",
      "Tweet stemizado:\n",
      " encant hacert feliz\n"
     ]
    }
   ],
   "source": [
    "print('Tweet original:\\n', df_initial.tweet[50:51].iloc[0])\n",
    "print('Tweet lematizado:\\n', df_initial.tweet[50:51].apply(transform_tweets, mode='lemma').iloc[0])\n",
    "print('Tweet stemizado:\\n',df_initial.tweet[50:51].apply(transform_tweets, mode='stem').iloc[0])"
   ]
  },
  {
   "cell_type": "code",
   "execution_count": 29,
   "metadata": {},
   "outputs": [
    {
     "name": "stdout",
     "output_type": "stream",
     "text": [
      "CPU times: total: 38.8 s\n",
      "Wall time: 49.6 s\n"
     ]
    }
   ],
   "source": [
    "%%time\n",
    "# Aplicamos\n",
    "df_initial['tweet_'] = df_initial.tweet.apply(transform_tweets, mode='lemma')\n",
    "df_final['tweet_'] = df_final.tweet.apply(transform_tweets, mode='lemma')"
   ]
  },
  {
   "cell_type": "code",
   "execution_count": 30,
   "metadata": {},
   "outputs": [],
   "source": [
    "df_initial = df_initial.reset_index()\n",
    "df_initial = df_initial[['id', 'tweet', 'classification', 'tweet_']]"
   ]
  },
  {
   "cell_type": "code",
   "execution_count": 31,
   "metadata": {},
   "outputs": [
    {
     "name": "stdout",
     "output_type": "stream",
     "text": [
      "Checking whether there is an H2O instance running at http://localhost:54321..... not found.\n",
      "Attempting to start a local H2O server...\n",
      "; Java HotSpot(TM) 64-Bit Server VM (build 25.311-b11, mixed mode)\n",
      "  Starting server from C:\\Users\\smath\\AppData\\Local\\Packages\\PythonSoftwareFoundation.Python.3.11_qbz5n2kfra8p0\\LocalCache\\local-packages\\Python311\\site-packages\\h2o\\backend\\bin\\h2o.jar\n",
      "  Ice root: C:\\Users\\smath\\AppData\\Local\\Temp\\tmpgqvs7iav\n",
      "  JVM stdout: C:\\Users\\smath\\AppData\\Local\\Temp\\tmpgqvs7iav\\h2o_smath_started_from_python.out\n",
      "  JVM stderr: C:\\Users\\smath\\AppData\\Local\\Temp\\tmpgqvs7iav\\h2o_smath_started_from_python.err\n",
      "  Server is running at http://127.0.0.1:54321\n",
      "Connecting to H2O server at http://127.0.0.1:54321 ... successful.\n"
     ]
    },
    {
     "data": {
      "text/html": [
       "\n",
       "<style>\n",
       "\n",
       "#h2o-table-1.h2o-container {\n",
       "  overflow-x: auto;\n",
       "}\n",
       "#h2o-table-1 .h2o-table {\n",
       "  /* width: 100%; */\n",
       "  margin-top: 1em;\n",
       "  margin-bottom: 1em;\n",
       "}\n",
       "#h2o-table-1 .h2o-table caption {\n",
       "  white-space: nowrap;\n",
       "  caption-side: top;\n",
       "  text-align: left;\n",
       "  /* margin-left: 1em; */\n",
       "  margin: 0;\n",
       "  font-size: larger;\n",
       "}\n",
       "#h2o-table-1 .h2o-table thead {\n",
       "  white-space: nowrap; \n",
       "  position: sticky;\n",
       "  top: 0;\n",
       "  box-shadow: 0 -1px inset;\n",
       "}\n",
       "#h2o-table-1 .h2o-table tbody {\n",
       "  overflow: auto;\n",
       "}\n",
       "#h2o-table-1 .h2o-table th,\n",
       "#h2o-table-1 .h2o-table td {\n",
       "  text-align: right;\n",
       "  /* border: 1px solid; */\n",
       "}\n",
       "#h2o-table-1 .h2o-table tr:nth-child(even) {\n",
       "  /* background: #F5F5F5 */\n",
       "}\n",
       "\n",
       "</style>      \n",
       "<div id=\"h2o-table-1\" class=\"h2o-container\">\n",
       "  <table class=\"h2o-table\">\n",
       "    <caption></caption>\n",
       "    <thead></thead>\n",
       "    <tbody><tr><td>H2O_cluster_uptime:</td>\n",
       "<td>01 secs</td></tr>\n",
       "<tr><td>H2O_cluster_timezone:</td>\n",
       "<td>America/Bogota</td></tr>\n",
       "<tr><td>H2O_data_parsing_timezone:</td>\n",
       "<td>UTC</td></tr>\n",
       "<tr><td>H2O_cluster_version:</td>\n",
       "<td>3.40.0.4</td></tr>\n",
       "<tr><td>H2O_cluster_version_age:</td>\n",
       "<td>5 days</td></tr>\n",
       "<tr><td>H2O_cluster_name:</td>\n",
       "<td>H2O_from_python_smath_7hs1ki</td></tr>\n",
       "<tr><td>H2O_cluster_total_nodes:</td>\n",
       "<td>1</td></tr>\n",
       "<tr><td>H2O_cluster_free_memory:</td>\n",
       "<td>7.096 Gb</td></tr>\n",
       "<tr><td>H2O_cluster_total_cores:</td>\n",
       "<td>16</td></tr>\n",
       "<tr><td>H2O_cluster_allowed_cores:</td>\n",
       "<td>16</td></tr>\n",
       "<tr><td>H2O_cluster_status:</td>\n",
       "<td>locked, healthy</td></tr>\n",
       "<tr><td>H2O_connection_url:</td>\n",
       "<td>http://127.0.0.1:54321</td></tr>\n",
       "<tr><td>H2O_connection_proxy:</td>\n",
       "<td>{\"http\": null, \"https\": null}</td></tr>\n",
       "<tr><td>H2O_internal_security:</td>\n",
       "<td>False</td></tr>\n",
       "<tr><td>Python_version:</td>\n",
       "<td>3.11.3 final</td></tr></tbody>\n",
       "  </table>\n",
       "</div>\n"
      ],
      "text/plain": [
       "--------------------------  -----------------------------\n",
       "H2O_cluster_uptime:         01 secs\n",
       "H2O_cluster_timezone:       America/Bogota\n",
       "H2O_data_parsing_timezone:  UTC\n",
       "H2O_cluster_version:        3.40.0.4\n",
       "H2O_cluster_version_age:    5 days\n",
       "H2O_cluster_name:           H2O_from_python_smath_7hs1ki\n",
       "H2O_cluster_total_nodes:    1\n",
       "H2O_cluster_free_memory:    7.096 Gb\n",
       "H2O_cluster_total_cores:    16\n",
       "H2O_cluster_allowed_cores:  16\n",
       "H2O_cluster_status:         locked, healthy\n",
       "H2O_connection_url:         http://127.0.0.1:54321\n",
       "H2O_connection_proxy:       {\"http\": null, \"https\": null}\n",
       "H2O_internal_security:      False\n",
       "Python_version:             3.11.3 final\n",
       "--------------------------  -----------------------------"
      ]
     },
     "metadata": {},
     "output_type": "display_data"
    }
   ],
   "source": [
    "import h2o\n",
    "from h2o.automl import H2OAutoML\n",
    "h2o.init()"
   ]
  },
  {
   "cell_type": "code",
   "execution_count": 32,
   "metadata": {},
   "outputs": [],
   "source": [
    "X_train, y_train = df_initial['tweet_'], df_initial['classification']\n",
    "X_test, y_test = df_final['tweet_'], df_final['classification']\n",
    "y_test_binarize = label_binarize(y_test,classes=[0,1,2])"
   ]
  },
  {
   "attachments": {},
   "cell_type": "markdown",
   "metadata": {},
   "source": [
    "# Modelos "
   ]
  },
  {
   "cell_type": "code",
   "execution_count": 67,
   "metadata": {},
   "outputs": [],
   "source": [
    "\n",
    "# Vectorizamos\n",
    "from sklearn.feature_extraction.text import CountVectorizer\n",
    "\n",
    "# Creamos objeto y entrenamos\n",
    "df_vectorizer = CountVectorizer(binary = True,\n",
    "                                      ngram_range=(1, 1))\n",
    "df_vectorizer.fit(X_train)\n",
    "\n",
    "# Transformamos X en sparse vector\n",
    "X_train_vec = df_vectorizer.transform(X_train)\n",
    "X_test_vec = df_vectorizer.transform(X_test)"
   ]
  },
  {
   "cell_type": "code",
   "execution_count": 69,
   "metadata": {},
   "outputs": [],
   "source": [
    "count_vect_df = pd.DataFrame(X_train_vec.todense(), columns=df_vectorizer.get_feature_names_out())\n",
    "train = count_vect_df\n",
    "train['y'] = y_train\n",
    "train_ = h2o.H2OFrame(train, column_names=train.columns.to_list(), column_types = {'y': 'enum'})\n",
    "train_ = train_.na_omit()\n",
    "X_train = train_.columns\n",
    "y_train = 'y'\n",
    "X_train.remove(y)"
   ]
  },
  {
   "cell_type": "code",
   "execution_count": 89,
   "metadata": {},
   "outputs": [
    {
     "name": "stdout",
     "output_type": "stream",
     "text": [
      "AutoML progress: |\n",
      "16:02:45.485: AutoML: XGBoost is not available; skipping it.\n",
      "\n",
      "███████████████████████████████████████████████████████████████| (done) 100%\n"
     ]
    },
    {
     "data": {
      "text/html": [
       "<table class='dataframe'>\n",
       "<thead>\n",
       "<tr><th>model_id                                               </th><th style=\"text-align: right;\">  mean_per_class_error</th><th style=\"text-align: right;\">  logloss</th><th style=\"text-align: right;\">    rmse</th><th style=\"text-align: right;\">     mse</th></tr>\n",
       "</thead>\n",
       "<tbody>\n",
       "<tr><td>StackedEnsemble_AllModels_1_AutoML_1_20230430_160245   </td><td style=\"text-align: right;\">              0.32315 </td><td style=\"text-align: right;\"> 0.894727</td><td style=\"text-align: right;\">0.576353</td><td style=\"text-align: right;\">0.332183</td></tr>\n",
       "<tr><td>StackedEnsemble_BestOfFamily_1_AutoML_1_20230430_160245</td><td style=\"text-align: right;\">              0.323293</td><td style=\"text-align: right;\"> 0.906571</td><td style=\"text-align: right;\">0.580039</td><td style=\"text-align: right;\">0.336445</td></tr>\n",
       "<tr><td>GBM_grid_1_AutoML_1_20230430_160245_model_1            </td><td style=\"text-align: right;\">              0.329354</td><td style=\"text-align: right;\"> 0.992015</td><td style=\"text-align: right;\">0.606521</td><td style=\"text-align: right;\">0.367868</td></tr>\n",
       "<tr><td>GBM_grid_1_AutoML_1_20230430_160245_model_8            </td><td style=\"text-align: right;\">              0.329956</td><td style=\"text-align: right;\"> 0.99137 </td><td style=\"text-align: right;\">0.605323</td><td style=\"text-align: right;\">0.366416</td></tr>\n",
       "<tr><td>GBM_grid_1_AutoML_1_20230430_160245_model_10           </td><td style=\"text-align: right;\">              0.330062</td><td style=\"text-align: right;\"> 0.984671</td><td style=\"text-align: right;\">0.605732</td><td style=\"text-align: right;\">0.366911</td></tr>\n",
       "<tr><td>GBM_grid_1_AutoML_1_20230430_160245_model_5            </td><td style=\"text-align: right;\">              0.331928</td><td style=\"text-align: right;\"> 1.00604 </td><td style=\"text-align: right;\">0.608048</td><td style=\"text-align: right;\">0.369723</td></tr>\n",
       "<tr><td>GBM_grid_1_AutoML_1_20230430_160245_model_3            </td><td style=\"text-align: right;\">              0.332165</td><td style=\"text-align: right;\"> 0.989136</td><td style=\"text-align: right;\">0.611475</td><td style=\"text-align: right;\">0.373901</td></tr>\n",
       "<tr><td>GBM_grid_1_AutoML_1_20230430_160245_model_13           </td><td style=\"text-align: right;\">              0.332793</td><td style=\"text-align: right;\"> 0.993663</td><td style=\"text-align: right;\">0.605719</td><td style=\"text-align: right;\">0.366896</td></tr>\n",
       "<tr><td>GBM_2_AutoML_1_20230430_160245                         </td><td style=\"text-align: right;\">              0.3329  </td><td style=\"text-align: right;\"> 0.985458</td><td style=\"text-align: right;\">0.609411</td><td style=\"text-align: right;\">0.371382</td></tr>\n",
       "<tr><td>GBM_3_AutoML_1_20230430_160245                         </td><td style=\"text-align: right;\">              0.332989</td><td style=\"text-align: right;\"> 0.985639</td><td style=\"text-align: right;\">0.608474</td><td style=\"text-align: right;\">0.37024 </td></tr>\n",
       "<tr><td>GBM_4_AutoML_1_20230430_160245                         </td><td style=\"text-align: right;\">              0.333127</td><td style=\"text-align: right;\"> 0.9891  </td><td style=\"text-align: right;\">0.608172</td><td style=\"text-align: right;\">0.369873</td></tr>\n",
       "<tr><td>GBM_grid_1_AutoML_1_20230430_160245_model_12           </td><td style=\"text-align: right;\">              0.333344</td><td style=\"text-align: right;\"> 0.991381</td><td style=\"text-align: right;\">0.61352 </td><td style=\"text-align: right;\">0.376407</td></tr>\n",
       "<tr><td>GBM_5_AutoML_1_20230430_160245                         </td><td style=\"text-align: right;\">              0.335351</td><td style=\"text-align: right;\"> 0.984225</td><td style=\"text-align: right;\">0.610946</td><td style=\"text-align: right;\">0.373255</td></tr>\n",
       "<tr><td>GBM_grid_1_AutoML_1_20230430_160245_model_9            </td><td style=\"text-align: right;\">              0.33744 </td><td style=\"text-align: right;\"> 0.988873</td><td style=\"text-align: right;\">0.614001</td><td style=\"text-align: right;\">0.376997</td></tr>\n",
       "<tr><td>GBM_grid_1_AutoML_1_20230430_160245_model_2            </td><td style=\"text-align: right;\">              0.342791</td><td style=\"text-align: right;\"> 0.992809</td><td style=\"text-align: right;\">0.61703 </td><td style=\"text-align: right;\">0.380726</td></tr>\n",
       "<tr><td>GBM_grid_1_AutoML_1_20230430_160245_model_4            </td><td style=\"text-align: right;\">              0.350074</td><td style=\"text-align: right;\"> 1.0154  </td><td style=\"text-align: right;\">0.615584</td><td style=\"text-align: right;\">0.378944</td></tr>\n",
       "<tr><td>GBM_grid_1_AutoML_1_20230430_160245_model_7            </td><td style=\"text-align: right;\">              0.352095</td><td style=\"text-align: right;\"> 1.00022 </td><td style=\"text-align: right;\">0.621407</td><td style=\"text-align: right;\">0.386147</td></tr>\n",
       "<tr><td>GBM_grid_1_AutoML_1_20230430_160245_model_11           </td><td style=\"text-align: right;\">              0.354134</td><td style=\"text-align: right;\"> 1.00599 </td><td style=\"text-align: right;\">0.620945</td><td style=\"text-align: right;\">0.385573</td></tr>\n",
       "<tr><td>DeepLearning_grid_3_AutoML_1_20230430_160245_model_6   </td><td style=\"text-align: right;\">              0.370536</td><td style=\"text-align: right;\"> 1.01443 </td><td style=\"text-align: right;\">0.604644</td><td style=\"text-align: right;\">0.365595</td></tr>\n",
       "<tr><td>DeepLearning_grid_2_AutoML_1_20230430_160245_model_5   </td><td style=\"text-align: right;\">              0.372572</td><td style=\"text-align: right;\"> 1.02437 </td><td style=\"text-align: right;\">0.607668</td><td style=\"text-align: right;\">0.369261</td></tr>\n",
       "<tr><td>DeepLearning_grid_3_AutoML_1_20230430_160245_model_5   </td><td style=\"text-align: right;\">              0.376918</td><td style=\"text-align: right;\"> 1.07402 </td><td style=\"text-align: right;\">0.608551</td><td style=\"text-align: right;\">0.370334</td></tr>\n",
       "<tr><td>DeepLearning_grid_2_AutoML_1_20230430_160245_model_6   </td><td style=\"text-align: right;\">              0.380175</td><td style=\"text-align: right;\"> 1.00499 </td><td style=\"text-align: right;\">0.616226</td><td style=\"text-align: right;\">0.379735</td></tr>\n",
       "<tr><td>GBM_1_AutoML_1_20230430_160245                         </td><td style=\"text-align: right;\">              0.387149</td><td style=\"text-align: right;\"> 1.06379 </td><td style=\"text-align: right;\">0.637412</td><td style=\"text-align: right;\">0.406294</td></tr>\n",
       "<tr><td>GBM_grid_1_AutoML_1_20230430_160245_model_6            </td><td style=\"text-align: right;\">              0.392551</td><td style=\"text-align: right;\"> 1.06249 </td><td style=\"text-align: right;\">0.640573</td><td style=\"text-align: right;\">0.410334</td></tr>\n",
       "<tr><td>DeepLearning_grid_2_AutoML_1_20230430_160245_model_2   </td><td style=\"text-align: right;\">              0.397343</td><td style=\"text-align: right;\"> 1.01237 </td><td style=\"text-align: right;\">0.621689</td><td style=\"text-align: right;\">0.386497</td></tr>\n",
       "<tr><td>DeepLearning_grid_3_AutoML_1_20230430_160245_model_3   </td><td style=\"text-align: right;\">              0.398325</td><td style=\"text-align: right;\"> 1.06688 </td><td style=\"text-align: right;\">0.625375</td><td style=\"text-align: right;\">0.391094</td></tr>\n",
       "<tr><td>DeepLearning_grid_2_AutoML_1_20230430_160245_model_1   </td><td style=\"text-align: right;\">              0.402587</td><td style=\"text-align: right;\"> 1.3867  </td><td style=\"text-align: right;\">0.64541 </td><td style=\"text-align: right;\">0.416554</td></tr>\n",
       "<tr><td>DRF_1_AutoML_1_20230430_160245                         </td><td style=\"text-align: right;\">              0.405804</td><td style=\"text-align: right;\"> 1.0251  </td><td style=\"text-align: right;\">0.638811</td><td style=\"text-align: right;\">0.408079</td></tr>\n",
       "<tr><td>DeepLearning_grid_3_AutoML_1_20230430_160245_model_2   </td><td style=\"text-align: right;\">              0.40657 </td><td style=\"text-align: right;\"> 1.03294 </td><td style=\"text-align: right;\">0.61892 </td><td style=\"text-align: right;\">0.383063</td></tr>\n",
       "<tr><td>DeepLearning_grid_2_AutoML_1_20230430_160245_model_3   </td><td style=\"text-align: right;\">              0.410597</td><td style=\"text-align: right;\"> 1.12303 </td><td style=\"text-align: right;\">0.634322</td><td style=\"text-align: right;\">0.402365</td></tr>\n",
       "<tr><td>DeepLearning_grid_2_AutoML_1_20230430_160245_model_4   </td><td style=\"text-align: right;\">              0.410604</td><td style=\"text-align: right;\"> 1.47135 </td><td style=\"text-align: right;\">0.656016</td><td style=\"text-align: right;\">0.430357</td></tr>\n",
       "<tr><td>DeepLearning_grid_1_AutoML_1_20230430_160245_model_1   </td><td style=\"text-align: right;\">              0.415828</td><td style=\"text-align: right;\"> 3.94744 </td><td style=\"text-align: right;\">0.655838</td><td style=\"text-align: right;\">0.430123</td></tr>\n",
       "<tr><td>DeepLearning_grid_3_AutoML_1_20230430_160245_model_4   </td><td style=\"text-align: right;\">              0.415975</td><td style=\"text-align: right;\"> 1.39284 </td><td style=\"text-align: right;\">0.657087</td><td style=\"text-align: right;\">0.431764</td></tr>\n",
       "<tr><td>DeepLearning_grid_3_AutoML_1_20230430_160245_model_1   </td><td style=\"text-align: right;\">              0.417664</td><td style=\"text-align: right;\"> 1.09779 </td><td style=\"text-align: right;\">0.634583</td><td style=\"text-align: right;\">0.402696</td></tr>\n",
       "<tr><td>DeepLearning_grid_1_AutoML_1_20230430_160245_model_5   </td><td style=\"text-align: right;\">              0.424757</td><td style=\"text-align: right;\"> 1.46319 </td><td style=\"text-align: right;\">0.650566</td><td style=\"text-align: right;\">0.423237</td></tr>\n",
       "<tr><td>DeepLearning_grid_1_AutoML_1_20230430_160245_model_4   </td><td style=\"text-align: right;\">              0.448734</td><td style=\"text-align: right;\"> 5.10451 </td><td style=\"text-align: right;\">0.676229</td><td style=\"text-align: right;\">0.457285</td></tr>\n",
       "<tr><td>DeepLearning_grid_1_AutoML_1_20230430_160245_model_6   </td><td style=\"text-align: right;\">              0.463161</td><td style=\"text-align: right;\"> 1.12231 </td><td style=\"text-align: right;\">0.653034</td><td style=\"text-align: right;\">0.426453</td></tr>\n",
       "<tr><td>DeepLearning_grid_1_AutoML_1_20230430_160245_model_3   </td><td style=\"text-align: right;\">              0.474243</td><td style=\"text-align: right;\"> 1.66079 </td><td style=\"text-align: right;\">0.670008</td><td style=\"text-align: right;\">0.448911</td></tr>\n",
       "<tr><td>DeepLearning_1_AutoML_1_20230430_160245                </td><td style=\"text-align: right;\">              0.475519</td><td style=\"text-align: right;\"> 1.16073 </td><td style=\"text-align: right;\">0.66999 </td><td style=\"text-align: right;\">0.448886</td></tr>\n",
       "<tr><td>DeepLearning_grid_1_AutoML_1_20230430_160245_model_2   </td><td style=\"text-align: right;\">              0.480168</td><td style=\"text-align: right;\"> 1.31418 </td><td style=\"text-align: right;\">0.665216</td><td style=\"text-align: right;\">0.442512</td></tr>\n",
       "<tr><td>GLM_1_AutoML_1_20230430_160245                         </td><td style=\"text-align: right;\">              0.5     </td><td style=\"text-align: right;\"> 1.09044 </td><td style=\"text-align: right;\">0.662587</td><td style=\"text-align: right;\">0.439021</td></tr>\n",
       "<tr><td>XRT_1_AutoML_1_20230430_160245                         </td><td style=\"text-align: right;\">              0.505317</td><td style=\"text-align: right;\"> 1.09515 </td><td style=\"text-align: right;\">0.66437 </td><td style=\"text-align: right;\">0.441388</td></tr>\n",
       "</tbody>\n",
       "</table><pre style='font-size: smaller; margin-bottom: 1em;'>[42 rows x 5 columns]</pre>"
      ],
      "text/plain": [
       "model_id                                                   mean_per_class_error    logloss      rmse       mse\n",
       "-------------------------------------------------------  ----------------------  ---------  --------  --------\n",
       "StackedEnsemble_AllModels_1_AutoML_1_20230430_160245                   0.32315    0.894727  0.576353  0.332183\n",
       "StackedEnsemble_BestOfFamily_1_AutoML_1_20230430_160245                0.323293   0.906571  0.580039  0.336445\n",
       "GBM_grid_1_AutoML_1_20230430_160245_model_1                            0.329354   0.992015  0.606521  0.367868\n",
       "GBM_grid_1_AutoML_1_20230430_160245_model_8                            0.329956   0.99137   0.605323  0.366416\n",
       "GBM_grid_1_AutoML_1_20230430_160245_model_10                           0.330062   0.984671  0.605732  0.366911\n",
       "GBM_grid_1_AutoML_1_20230430_160245_model_5                            0.331928   1.00604   0.608048  0.369723\n",
       "GBM_grid_1_AutoML_1_20230430_160245_model_3                            0.332165   0.989136  0.611475  0.373901\n",
       "GBM_grid_1_AutoML_1_20230430_160245_model_13                           0.332793   0.993663  0.605719  0.366896\n",
       "GBM_2_AutoML_1_20230430_160245                                         0.3329     0.985458  0.609411  0.371382\n",
       "GBM_3_AutoML_1_20230430_160245                                         0.332989   0.985639  0.608474  0.37024\n",
       "GBM_4_AutoML_1_20230430_160245                                         0.333127   0.9891    0.608172  0.369873\n",
       "GBM_grid_1_AutoML_1_20230430_160245_model_12                           0.333344   0.991381  0.61352   0.376407\n",
       "GBM_5_AutoML_1_20230430_160245                                         0.335351   0.984225  0.610946  0.373255\n",
       "GBM_grid_1_AutoML_1_20230430_160245_model_9                            0.33744    0.988873  0.614001  0.376997\n",
       "GBM_grid_1_AutoML_1_20230430_160245_model_2                            0.342791   0.992809  0.61703   0.380726\n",
       "GBM_grid_1_AutoML_1_20230430_160245_model_4                            0.350074   1.0154    0.615584  0.378944\n",
       "GBM_grid_1_AutoML_1_20230430_160245_model_7                            0.352095   1.00022   0.621407  0.386147\n",
       "GBM_grid_1_AutoML_1_20230430_160245_model_11                           0.354134   1.00599   0.620945  0.385573\n",
       "DeepLearning_grid_3_AutoML_1_20230430_160245_model_6                   0.370536   1.01443   0.604644  0.365595\n",
       "DeepLearning_grid_2_AutoML_1_20230430_160245_model_5                   0.372572   1.02437   0.607668  0.369261\n",
       "DeepLearning_grid_3_AutoML_1_20230430_160245_model_5                   0.376918   1.07402   0.608551  0.370334\n",
       "DeepLearning_grid_2_AutoML_1_20230430_160245_model_6                   0.380175   1.00499   0.616226  0.379735\n",
       "GBM_1_AutoML_1_20230430_160245                                         0.387149   1.06379   0.637412  0.406294\n",
       "GBM_grid_1_AutoML_1_20230430_160245_model_6                            0.392551   1.06249   0.640573  0.410334\n",
       "DeepLearning_grid_2_AutoML_1_20230430_160245_model_2                   0.397343   1.01237   0.621689  0.386497\n",
       "DeepLearning_grid_3_AutoML_1_20230430_160245_model_3                   0.398325   1.06688   0.625375  0.391094\n",
       "DeepLearning_grid_2_AutoML_1_20230430_160245_model_1                   0.402587   1.3867    0.64541   0.416554\n",
       "DRF_1_AutoML_1_20230430_160245                                         0.405804   1.0251    0.638811  0.408079\n",
       "DeepLearning_grid_3_AutoML_1_20230430_160245_model_2                   0.40657    1.03294   0.61892   0.383063\n",
       "DeepLearning_grid_2_AutoML_1_20230430_160245_model_3                   0.410597   1.12303   0.634322  0.402365\n",
       "DeepLearning_grid_2_AutoML_1_20230430_160245_model_4                   0.410604   1.47135   0.656016  0.430357\n",
       "DeepLearning_grid_1_AutoML_1_20230430_160245_model_1                   0.415828   3.94744   0.655838  0.430123\n",
       "DeepLearning_grid_3_AutoML_1_20230430_160245_model_4                   0.415975   1.39284   0.657087  0.431764\n",
       "DeepLearning_grid_3_AutoML_1_20230430_160245_model_1                   0.417664   1.09779   0.634583  0.402696\n",
       "DeepLearning_grid_1_AutoML_1_20230430_160245_model_5                   0.424757   1.46319   0.650566  0.423237\n",
       "DeepLearning_grid_1_AutoML_1_20230430_160245_model_4                   0.448734   5.10451   0.676229  0.457285\n",
       "DeepLearning_grid_1_AutoML_1_20230430_160245_model_6                   0.463161   1.12231   0.653034  0.426453\n",
       "DeepLearning_grid_1_AutoML_1_20230430_160245_model_3                   0.474243   1.66079   0.670008  0.448911\n",
       "DeepLearning_1_AutoML_1_20230430_160245                                0.475519   1.16073   0.66999   0.448886\n",
       "DeepLearning_grid_1_AutoML_1_20230430_160245_model_2                   0.480168   1.31418   0.665216  0.442512\n",
       "GLM_1_AutoML_1_20230430_160245                                         0.5        1.09044   0.662587  0.439021\n",
       "XRT_1_AutoML_1_20230430_160245                                         0.505317   1.09515   0.66437   0.441388\n",
       "[42 rows x 5 columns]\n"
      ]
     },
     "execution_count": 89,
     "metadata": {},
     "output_type": "execute_result"
    }
   ],
   "source": [
    "aml = H2OAutoML(max_models=40, seed=1)\n",
    "aml.train(x=X_train, y=y_train, training_frame=train_)\n",
    "\n",
    "# View the AutoML Leaderboard\n",
    "lb = aml.leaderboard\n",
    "lb.head(rows=lb.nrows)  # Print all rows instead of default (10 rows)"
   ]
  },
  {
   "cell_type": "code",
   "execution_count": 91,
   "metadata": {},
   "outputs": [],
   "source": [
    "count_vect_df_2 = pd.DataFrame(X_test_vec.todense(), columns=df_vectorizer.get_feature_names_out())\n",
    "test = count_vect_df_2\n",
    "test['y'] = y_testtest = count_vect_df_2\n",
    "test['y'] = y_test\n",
    "test_ = h2o.H2OFrame(test, column_names=test.columns.to_list(), column_types = {'y': 'enum'})\n",
    "test_ = test_.na_omit()"
   ]
  },
  {
   "cell_type": "code",
   "execution_count": 125,
   "metadata": {},
   "outputs": [],
   "source": [
    "m = aml.get_best_model()\n",
    "preds = m.predict(test_)\n",
    "df_salida = preds.as_data_frame()"
   ]
  },
  {
   "cell_type": "code",
   "execution_count": 128,
   "metadata": {},
   "outputs": [
    {
     "data": {
      "image/png": "[encoded data removed]",
      "text/plain": [
       "<Figure size 640x480 with 1 Axes>"
      ]
     },
     "metadata": {},
     "output_type": "display_data"
    }
   ],
   "source": [
    "sns.heatmap(confusion_matrix(y_test,df_salida.predict, normalize = 'true'),\n",
    "            annot=True,fmt='.2%', cmap = 'Blues', cbar = False);\n",
    "\n",
    "plt.title('Real vs pred')\n",
    "plt.xlabel('Predicted values')\n",
    "plt.ylabel('Real values');\n",
    "    \n",
    "plt.show()"
   ]
  },
  {
   "cell_type": "code",
   "execution_count": 130,
   "metadata": {},
   "outputs": [
    {
     "name": "stdout",
     "output_type": "stream",
     "text": [
      "              precision    recall  f1-score   support\n",
      "\n",
      "           0       0.59      0.72      0.65      2939\n",
      "           1       0.40      0.37      0.39      1966\n",
      "           2       0.70      0.57      0.63      2359\n",
      "\n",
      "    accuracy                           0.58      7264\n",
      "   macro avg       0.57      0.55      0.56      7264\n",
      "weighted avg       0.58      0.58      0.57      7264\n",
      "\n"
     ]
    }
   ],
   "source": [
    "print(classification_report(y_test,df_salida.predict))"
   ]
  },
  {
   "attachments": {},
   "cell_type": "markdown",
   "metadata": {},
   "source": [
    "# Otro metodo de vectorizacion"
   ]
  },
  {
   "cell_type": "code",
   "execution_count": 33,
   "metadata": {},
   "outputs": [],
   "source": [
    "from sklearn.feature_extraction.text import TfidfVectorizer\n",
    "# Creamos objeto y entrenamos\n",
    "vectorizer = TfidfVectorizer()\n",
    "vectorizer.fit(X_train)\n",
    "# Transformamos X en sparse vector\n",
    "X_train_vec_tf = vectorizer.transform(X_train)\n",
    "X_test_vec_tf = vectorizer.transform(X_test)"
   ]
  },
  {
   "cell_type": "code",
   "execution_count": 35,
   "metadata": {},
   "outputs": [
    {
     "name": "stdout",
     "output_type": "stream",
     "text": [
      "Parse progress: |████████████████████████████████████████████████████████████████| (done) 100%\n"
     ]
    }
   ],
   "source": [
    "count_vect_df_tf = pd.DataFrame(X_train_vec_tf.todense(), columns = vectorizer.get_feature_names_out())\n",
    "train_tf = count_vect_df_tf\n",
    "train_tf['y'] = y_train\n",
    "train_tf_ = h2o.H2OFrame(train_tf, column_names=train_tf.columns.to_list(), column_types = {'y': 'enum'})\n",
    "train_tf_ = train_tf_.na_omit()\n",
    "X_train_tf = train_tf_.columns\n",
    "Y_train = 'y'\n",
    "X_train_tf.remove('y')"
   ]
  },
  {
   "cell_type": "code",
   "execution_count": 36,
   "metadata": {},
   "outputs": [
    {
     "name": "stdout",
     "output_type": "stream",
     "text": [
      "AutoML progress: |\n",
      "08:56:04.938: AutoML: XGBoost is not available; skipping it.\n",
      "\n",
      "███████████████████████████████████████████████████████████████| (done) 100%\n"
     ]
    },
    {
     "ename": "NameError",
     "evalue": "name 'lb' is not defined",
     "output_type": "error",
     "traceback": [
      "\u001b[1;31m---------------------------------------------------------------------------\u001b[0m",
      "\u001b[1;31mNameError\u001b[0m                                 Traceback (most recent call last)",
      "Cell \u001b[1;32mIn[36], line 5\u001b[0m\n\u001b[0;32m      3\u001b[0m \u001b[39m# View the AutoML Leaderboard\u001b[39;00m\n\u001b[0;32m      4\u001b[0m lb_3 \u001b[39m=\u001b[39m aml_3\u001b[39m.\u001b[39mleaderboard\n\u001b[1;32m----> 5\u001b[0m lb_3\u001b[39m.\u001b[39mhead(rows\u001b[39m=\u001b[39mlb\u001b[39m.\u001b[39mnrows)  \u001b[39m# Print all rows instead of default (10 rows)\u001b[39;00m\n",
      "\u001b[1;31mNameError\u001b[0m: name 'lb' is not defined"
     ]
    }
   ],
   "source": [
    "aml_3 = H2OAutoML(max_models=40, seed=1)\n",
    "aml_3.train(x=X_train_tf, y=Y_train, training_frame=train_tf_)\n",
    "# View the AutoML Leaderboard\n",
    "lb_3 = aml_3.leaderboard\n",
    "lb_3.head(rows=lb.nrows)  # Print all rows instead of default (10 rows)"
   ]
  },
  {
   "cell_type": "code",
   "execution_count": 37,
   "metadata": {},
   "outputs": [
    {
     "data": {
      "text/html": [
       "<table class='dataframe'>\n",
       "<thead>\n",
       "<tr><th>model_id                                              </th><th style=\"text-align: right;\">  mean_per_class_error</th><th style=\"text-align: right;\">  logloss</th><th style=\"text-align: right;\">    rmse</th><th style=\"text-align: right;\">     mse</th></tr>\n",
       "</thead>\n",
       "<tbody>\n",
       "<tr><td>StackedEnsemble_AllModels_1_AutoML_1_20230504_85604   </td><td style=\"text-align: right;\">              0.318514</td><td style=\"text-align: right;\"> 0.891136</td><td style=\"text-align: right;\">0.575728</td><td style=\"text-align: right;\">0.331462</td></tr>\n",
       "<tr><td>StackedEnsemble_BestOfFamily_1_AutoML_1_20230504_85604</td><td style=\"text-align: right;\">              0.321794</td><td style=\"text-align: right;\"> 0.897266</td><td style=\"text-align: right;\">0.576615</td><td style=\"text-align: right;\">0.332485</td></tr>\n",
       "<tr><td>GBM_4_AutoML_1_20230504_85604                         </td><td style=\"text-align: right;\">              0.335985</td><td style=\"text-align: right;\"> 0.98973 </td><td style=\"text-align: right;\">0.608562</td><td style=\"text-align: right;\">0.370347</td></tr>\n",
       "<tr><td>GBM_2_AutoML_1_20230504_85604                         </td><td style=\"text-align: right;\">              0.336155</td><td style=\"text-align: right;\"> 0.989189</td><td style=\"text-align: right;\">0.610856</td><td style=\"text-align: right;\">0.373144</td></tr>\n",
       "<tr><td>GBM_grid_1_AutoML_1_20230504_85604_model_5            </td><td style=\"text-align: right;\">              0.337306</td><td style=\"text-align: right;\"> 1.00771 </td><td style=\"text-align: right;\">0.608431</td><td style=\"text-align: right;\">0.370188</td></tr>\n",
       "<tr><td>GBM_grid_1_AutoML_1_20230504_85604_model_8            </td><td style=\"text-align: right;\">              0.337313</td><td style=\"text-align: right;\"> 0.996719</td><td style=\"text-align: right;\">0.607926</td><td style=\"text-align: right;\">0.369574</td></tr>\n",
       "<tr><td>GBM_grid_1_AutoML_1_20230504_85604_model_13           </td><td style=\"text-align: right;\">              0.337668</td><td style=\"text-align: right;\"> 0.998799</td><td style=\"text-align: right;\">0.60746 </td><td style=\"text-align: right;\">0.369008</td></tr>\n",
       "<tr><td>GBM_grid_1_AutoML_1_20230504_85604_model_1            </td><td style=\"text-align: right;\">              0.337817</td><td style=\"text-align: right;\"> 1.00678 </td><td style=\"text-align: right;\">0.610901</td><td style=\"text-align: right;\">0.3732  </td></tr>\n",
       "<tr><td>GBM_3_AutoML_1_20230504_85604                         </td><td style=\"text-align: right;\">              0.338691</td><td style=\"text-align: right;\"> 0.98825 </td><td style=\"text-align: right;\">0.609576</td><td style=\"text-align: right;\">0.371583</td></tr>\n",
       "<tr><td>GBM_grid_1_AutoML_1_20230504_85604_model_10           </td><td style=\"text-align: right;\">              0.339075</td><td style=\"text-align: right;\"> 0.994532</td><td style=\"text-align: right;\">0.608113</td><td style=\"text-align: right;\">0.369801</td></tr>\n",
       "<tr><td>GBM_grid_1_AutoML_1_20230504_85604_model_3            </td><td style=\"text-align: right;\">              0.341139</td><td style=\"text-align: right;\"> 0.991554</td><td style=\"text-align: right;\">0.612412</td><td style=\"text-align: right;\">0.375049</td></tr>\n",
       "<tr><td>GBM_grid_1_AutoML_1_20230504_85604_model_12           </td><td style=\"text-align: right;\">              0.341238</td><td style=\"text-align: right;\"> 0.996806</td><td style=\"text-align: right;\">0.615122</td><td style=\"text-align: right;\">0.378375</td></tr>\n",
       "<tr><td>GBM_5_AutoML_1_20230504_85604                         </td><td style=\"text-align: right;\">              0.341602</td><td style=\"text-align: right;\"> 0.989045</td><td style=\"text-align: right;\">0.613172</td><td style=\"text-align: right;\">0.37598 </td></tr>\n",
       "<tr><td>GBM_grid_1_AutoML_1_20230504_85604_model_9            </td><td style=\"text-align: right;\">              0.344552</td><td style=\"text-align: right;\"> 0.990355</td><td style=\"text-align: right;\">0.614425</td><td style=\"text-align: right;\">0.377518</td></tr>\n",
       "<tr><td>GBM_grid_1_AutoML_1_20230504_85604_model_2            </td><td style=\"text-align: right;\">              0.349993</td><td style=\"text-align: right;\"> 0.995514</td><td style=\"text-align: right;\">0.618111</td><td style=\"text-align: right;\">0.382061</td></tr>\n",
       "<tr><td>GBM_grid_1_AutoML_1_20230504_85604_model_7            </td><td style=\"text-align: right;\">              0.352873</td><td style=\"text-align: right;\"> 0.997394</td><td style=\"text-align: right;\">0.620124</td><td style=\"text-align: right;\">0.384554</td></tr>\n",
       "<tr><td>GBM_grid_1_AutoML_1_20230504_85604_model_11           </td><td style=\"text-align: right;\">              0.357064</td><td style=\"text-align: right;\"> 1.00745 </td><td style=\"text-align: right;\">0.621329</td><td style=\"text-align: right;\">0.38605 </td></tr>\n",
       "<tr><td>GBM_grid_1_AutoML_1_20230504_85604_model_4            </td><td style=\"text-align: right;\">              0.35767 </td><td style=\"text-align: right;\"> 1.03311 </td><td style=\"text-align: right;\">0.619967</td><td style=\"text-align: right;\">0.384359</td></tr>\n",
       "<tr><td>DeepLearning_grid_2_AutoML_1_20230504_85604_model_5   </td><td style=\"text-align: right;\">              0.368012</td><td style=\"text-align: right;\"> 1.07473 </td><td style=\"text-align: right;\">0.609263</td><td style=\"text-align: right;\">0.371201</td></tr>\n",
       "<tr><td>DeepLearning_grid_3_AutoML_1_20230504_85604_model_5   </td><td style=\"text-align: right;\">              0.376791</td><td style=\"text-align: right;\"> 1.06885 </td><td style=\"text-align: right;\">0.611735</td><td style=\"text-align: right;\">0.37422 </td></tr>\n",
       "<tr><td>DeepLearning_grid_3_AutoML_1_20230504_85604_model_6   </td><td style=\"text-align: right;\">              0.379094</td><td style=\"text-align: right;\"> 1.0371  </td><td style=\"text-align: right;\">0.611241</td><td style=\"text-align: right;\">0.373616</td></tr>\n",
       "<tr><td>DeepLearning_grid_1_AutoML_1_20230504_85604_model_5   </td><td style=\"text-align: right;\">              0.384262</td><td style=\"text-align: right;\"> 1.33292 </td><td style=\"text-align: right;\">0.632328</td><td style=\"text-align: right;\">0.399839</td></tr>\n",
       "<tr><td>GBM_1_AutoML_1_20230504_85604                         </td><td style=\"text-align: right;\">              0.389665</td><td style=\"text-align: right;\"> 1.07181 </td><td style=\"text-align: right;\">0.638728</td><td style=\"text-align: right;\">0.407974</td></tr>\n",
       "<tr><td>GBM_grid_1_AutoML_1_20230504_85604_model_6            </td><td style=\"text-align: right;\">              0.390894</td><td style=\"text-align: right;\"> 1.0637  </td><td style=\"text-align: right;\">0.639876</td><td style=\"text-align: right;\">0.409442</td></tr>\n",
       "<tr><td>DeepLearning_grid_2_AutoML_1_20230504_85604_model_6   </td><td style=\"text-align: right;\">              0.394782</td><td style=\"text-align: right;\"> 1.02233 </td><td style=\"text-align: right;\">0.620485</td><td style=\"text-align: right;\">0.385002</td></tr>\n",
       "<tr><td>DeepLearning_grid_2_AutoML_1_20230504_85604_model_1   </td><td style=\"text-align: right;\">              0.39662 </td><td style=\"text-align: right;\"> 1.35043 </td><td style=\"text-align: right;\">0.641129</td><td style=\"text-align: right;\">0.411046</td></tr>\n",
       "<tr><td>DeepLearning_grid_3_AutoML_1_20230504_85604_model_2   </td><td style=\"text-align: right;\">              0.397887</td><td style=\"text-align: right;\"> 1.02569 </td><td style=\"text-align: right;\">0.617234</td><td style=\"text-align: right;\">0.380978</td></tr>\n",
       "<tr><td>DeepLearning_grid_2_AutoML_1_20230504_85604_model_2   </td><td style=\"text-align: right;\">              0.399422</td><td style=\"text-align: right;\"> 1.01916 </td><td style=\"text-align: right;\">0.615974</td><td style=\"text-align: right;\">0.379424</td></tr>\n",
       "<tr><td>DRF_1_AutoML_1_20230504_85604                         </td><td style=\"text-align: right;\">              0.401224</td><td style=\"text-align: right;\"> 1.02292 </td><td style=\"text-align: right;\">0.637928</td><td style=\"text-align: right;\">0.406952</td></tr>\n",
       "<tr><td>DeepLearning_grid_3_AutoML_1_20230504_85604_model_1   </td><td style=\"text-align: right;\">              0.403803</td><td style=\"text-align: right;\"> 1.16146 </td><td style=\"text-align: right;\">0.634827</td><td style=\"text-align: right;\">0.403006</td></tr>\n",
       "<tr><td>DeepLearning_grid_3_AutoML_1_20230504_85604_model_3   </td><td style=\"text-align: right;\">              0.404225</td><td style=\"text-align: right;\"> 1.10689 </td><td style=\"text-align: right;\">0.629402</td><td style=\"text-align: right;\">0.396147</td></tr>\n",
       "<tr><td>DeepLearning_grid_2_AutoML_1_20230504_85604_model_4   </td><td style=\"text-align: right;\">              0.406534</td><td style=\"text-align: right;\"> 1.59839 </td><td style=\"text-align: right;\">0.660484</td><td style=\"text-align: right;\">0.436239</td></tr>\n",
       "<tr><td>XRT_1_AutoML_1_20230504_85604                         </td><td style=\"text-align: right;\">              0.409197</td><td style=\"text-align: right;\"> 1.02729 </td><td style=\"text-align: right;\">0.639651</td><td style=\"text-align: right;\">0.409153</td></tr>\n",
       "<tr><td>DeepLearning_grid_2_AutoML_1_20230504_85604_model_3   </td><td style=\"text-align: right;\">              0.418591</td><td style=\"text-align: right;\"> 1.1477  </td><td style=\"text-align: right;\">0.63652 </td><td style=\"text-align: right;\">0.405157</td></tr>\n",
       "<tr><td>DeepLearning_grid_3_AutoML_1_20230504_85604_model_4   </td><td style=\"text-align: right;\">              0.424749</td><td style=\"text-align: right;\"> 1.55264 </td><td style=\"text-align: right;\">0.667439</td><td style=\"text-align: right;\">0.445474</td></tr>\n",
       "<tr><td>DeepLearning_grid_1_AutoML_1_20230504_85604_model_1   </td><td style=\"text-align: right;\">              0.437036</td><td style=\"text-align: right;\"> 3.31898 </td><td style=\"text-align: right;\">0.666009</td><td style=\"text-align: right;\">0.443569</td></tr>\n",
       "<tr><td>DeepLearning_grid_1_AutoML_1_20230504_85604_model_4   </td><td style=\"text-align: right;\">              0.445419</td><td style=\"text-align: right;\"> 5.00889 </td><td style=\"text-align: right;\">0.683161</td><td style=\"text-align: right;\">0.466709</td></tr>\n",
       "<tr><td>DeepLearning_grid_1_AutoML_1_20230504_85604_model_6   </td><td style=\"text-align: right;\">              0.465305</td><td style=\"text-align: right;\"> 1.0995  </td><td style=\"text-align: right;\">0.653463</td><td style=\"text-align: right;\">0.427014</td></tr>\n",
       "<tr><td>DeepLearning_1_AutoML_1_20230504_85604                </td><td style=\"text-align: right;\">              0.468238</td><td style=\"text-align: right;\"> 1.11807 </td><td style=\"text-align: right;\">0.659822</td><td style=\"text-align: right;\">0.435365</td></tr>\n",
       "<tr><td>DeepLearning_grid_1_AutoML_1_20230504_85604_model_3   </td><td style=\"text-align: right;\">              0.472828</td><td style=\"text-align: right;\"> 1.40463 </td><td style=\"text-align: right;\">0.664266</td><td style=\"text-align: right;\">0.44125 </td></tr>\n",
       "<tr><td>DeepLearning_grid_1_AutoML_1_20230504_85604_model_2   </td><td style=\"text-align: right;\">              0.491935</td><td style=\"text-align: right;\"> 1.36768 </td><td style=\"text-align: right;\">0.672308</td><td style=\"text-align: right;\">0.451998</td></tr>\n",
       "<tr><td>GLM_1_AutoML_1_20230504_85604                         </td><td style=\"text-align: right;\">              0.5     </td><td style=\"text-align: right;\"> 1.09044 </td><td style=\"text-align: right;\">0.662587</td><td style=\"text-align: right;\">0.439021</td></tr>\n",
       "</tbody>\n",
       "</table><pre style='font-size: smaller; margin-bottom: 1em;'>[42 rows x 5 columns]</pre>"
      ],
      "text/plain": [
       "model_id                                                  mean_per_class_error    logloss      rmse       mse\n",
       "------------------------------------------------------  ----------------------  ---------  --------  --------\n",
       "StackedEnsemble_AllModels_1_AutoML_1_20230504_85604                   0.318514   0.891136  0.575728  0.331462\n",
       "StackedEnsemble_BestOfFamily_1_AutoML_1_20230504_85604                0.321794   0.897266  0.576615  0.332485\n",
       "GBM_4_AutoML_1_20230504_85604                                         0.335985   0.98973   0.608562  0.370347\n",
       "GBM_2_AutoML_1_20230504_85604                                         0.336155   0.989189  0.610856  0.373144\n",
       "GBM_grid_1_AutoML_1_20230504_85604_model_5                            0.337306   1.00771   0.608431  0.370188\n",
       "GBM_grid_1_AutoML_1_20230504_85604_model_8                            0.337313   0.996719  0.607926  0.369574\n",
       "GBM_grid_1_AutoML_1_20230504_85604_model_13                           0.337668   0.998799  0.60746   0.369008\n",
       "GBM_grid_1_AutoML_1_20230504_85604_model_1                            0.337817   1.00678   0.610901  0.3732\n",
       "GBM_3_AutoML_1_20230504_85604                                         0.338691   0.98825   0.609576  0.371583\n",
       "GBM_grid_1_AutoML_1_20230504_85604_model_10                           0.339075   0.994532  0.608113  0.369801\n",
       "GBM_grid_1_AutoML_1_20230504_85604_model_3                            0.341139   0.991554  0.612412  0.375049\n",
       "GBM_grid_1_AutoML_1_20230504_85604_model_12                           0.341238   0.996806  0.615122  0.378375\n",
       "GBM_5_AutoML_1_20230504_85604                                         0.341602   0.989045  0.613172  0.37598\n",
       "GBM_grid_1_AutoML_1_20230504_85604_model_9                            0.344552   0.990355  0.614425  0.377518\n",
       "GBM_grid_1_AutoML_1_20230504_85604_model_2                            0.349993   0.995514  0.618111  0.382061\n",
       "GBM_grid_1_AutoML_1_20230504_85604_model_7                            0.352873   0.997394  0.620124  0.384554\n",
       "GBM_grid_1_AutoML_1_20230504_85604_model_11                           0.357064   1.00745   0.621329  0.38605\n",
       "GBM_grid_1_AutoML_1_20230504_85604_model_4                            0.35767    1.03311   0.619967  0.384359\n",
       "DeepLearning_grid_2_AutoML_1_20230504_85604_model_5                   0.368012   1.07473   0.609263  0.371201\n",
       "DeepLearning_grid_3_AutoML_1_20230504_85604_model_5                   0.376791   1.06885   0.611735  0.37422\n",
       "DeepLearning_grid_3_AutoML_1_20230504_85604_model_6                   0.379094   1.0371    0.611241  0.373616\n",
       "DeepLearning_grid_1_AutoML_1_20230504_85604_model_5                   0.384262   1.33292   0.632328  0.399839\n",
       "GBM_1_AutoML_1_20230504_85604                                         0.389665   1.07181   0.638728  0.407974\n",
       "GBM_grid_1_AutoML_1_20230504_85604_model_6                            0.390894   1.0637    0.639876  0.409442\n",
       "DeepLearning_grid_2_AutoML_1_20230504_85604_model_6                   0.394782   1.02233   0.620485  0.385002\n",
       "DeepLearning_grid_2_AutoML_1_20230504_85604_model_1                   0.39662    1.35043   0.641129  0.411046\n",
       "DeepLearning_grid_3_AutoML_1_20230504_85604_model_2                   0.397887   1.02569   0.617234  0.380978\n",
       "DeepLearning_grid_2_AutoML_1_20230504_85604_model_2                   0.399422   1.01916   0.615974  0.379424\n",
       "DRF_1_AutoML_1_20230504_85604                                         0.401224   1.02292   0.637928  0.406952\n",
       "DeepLearning_grid_3_AutoML_1_20230504_85604_model_1                   0.403803   1.16146   0.634827  0.403006\n",
       "DeepLearning_grid_3_AutoML_1_20230504_85604_model_3                   0.404225   1.10689   0.629402  0.396147\n",
       "DeepLearning_grid_2_AutoML_1_20230504_85604_model_4                   0.406534   1.59839   0.660484  0.436239\n",
       "XRT_1_AutoML_1_20230504_85604                                         0.409197   1.02729   0.639651  0.409153\n",
       "DeepLearning_grid_2_AutoML_1_20230504_85604_model_3                   0.418591   1.1477    0.63652   0.405157\n",
       "DeepLearning_grid_3_AutoML_1_20230504_85604_model_4                   0.424749   1.55264   0.667439  0.445474\n",
       "DeepLearning_grid_1_AutoML_1_20230504_85604_model_1                   0.437036   3.31898   0.666009  0.443569\n",
       "DeepLearning_grid_1_AutoML_1_20230504_85604_model_4                   0.445419   5.00889   0.683161  0.466709\n",
       "DeepLearning_grid_1_AutoML_1_20230504_85604_model_6                   0.465305   1.0995    0.653463  0.427014\n",
       "DeepLearning_1_AutoML_1_20230504_85604                                0.468238   1.11807   0.659822  0.435365\n",
       "DeepLearning_grid_1_AutoML_1_20230504_85604_model_3                   0.472828   1.40463   0.664266  0.44125\n",
       "DeepLearning_grid_1_AutoML_1_20230504_85604_model_2                   0.491935   1.36768   0.672308  0.451998\n",
       "GLM_1_AutoML_1_20230504_85604                                         0.5        1.09044   0.662587  0.439021\n",
       "[42 rows x 5 columns]\n"
      ]
     },
     "execution_count": 37,
     "metadata": {},
     "output_type": "execute_result"
    }
   ],
   "source": [
    "lb_3.head(rows=lb_3.nrows)  # Print all rows instead of default (10 rows)"
   ]
  },
  {
   "cell_type": "code",
   "execution_count": 38,
   "metadata": {},
   "outputs": [
    {
     "name": "stdout",
     "output_type": "stream",
     "text": [
      "Parse progress: |████████████████████████████████████████████████████████████████| (done) 100%\n"
     ]
    }
   ],
   "source": [
    "count_vect_df_tf_2 = pd.DataFrame(X_test_vec_tf.todense(), columns=vectorizer.get_feature_names_out())\n",
    "test_tf = count_vect_df_tf_2\n",
    "test_tf['y'] = y_test\n",
    "test_tf_ = h2o.H2OFrame(test_tf, column_names=test_tf.columns.to_list(), column_types = {'y': 'enum'})\n",
    "test_tf_ = test_tf_.na_omit()"
   ]
  },
  {
   "cell_type": "code",
   "execution_count": 39,
   "metadata": {},
   "outputs": [
    {
     "name": "stdout",
     "output_type": "stream",
     "text": [
      "stackedensemble prediction progress: |███████████████████████████████████████████| (done) 100%\n"
     ]
    }
   ],
   "source": [
    "m3 = aml_3.get_best_model()\n",
    "preds_3 = m3.predict(test_tf_)\n",
    "df_salida_3 = preds_3.as_data_frame()"
   ]
  },
  {
   "cell_type": "code",
   "execution_count": 40,
   "metadata": {},
   "outputs": [
    {
     "data": {
      "image/png": "[encoded data removed]",
      "text/plain": [
       "<Figure size 640x480 with 1 Axes>"
      ]
     },
     "metadata": {},
     "output_type": "display_data"
    }
   ],
   "source": [
    "sns.heatmap(confusion_matrix(y_test,df_salida_3.predict, normalize = 'true'),\n",
    "            annot=True,fmt='.2%', cmap = 'Blues', cbar = False);\n",
    "\n",
    "plt.title('Real vs pred')\n",
    "plt.xlabel('Predicted values')\n",
    "plt.ylabel('Real values');\n",
    "    \n",
    "plt.show()"
   ]
  },
  {
   "cell_type": "code",
   "execution_count": 42,
   "metadata": {},
   "outputs": [
    {
     "name": "stdout",
     "output_type": "stream",
     "text": [
      "              precision    recall  f1-score   support\n",
      "\n",
      "           0       0.63      0.61      0.62      2939\n",
      "           1       0.40      0.47      0.43      1966\n",
      "           2       0.67      0.61      0.64      2359\n",
      "\n",
      "    accuracy                           0.57      7264\n",
      "   macro avg       0.57      0.56      0.56      7264\n",
      "weighted avg       0.58      0.57      0.58      7264\n",
      "\n"
     ]
    }
   ],
   "source": [
    "print(classification_report(y_test,df_salida_3.predict))"
   ]
  },
  {
   "attachments": {},
   "cell_type": "markdown",
   "metadata": {},
   "source": [
    "# Abordemos los emmbedings "
   ]
  },
  {
   "cell_type": "code",
   "execution_count": 178,
   "metadata": {},
   "outputs": [],
   "source": [
    "\n",
    "import tensorflow_hub as hub\n",
    "\n",
    "embed = hub.load(\"https://tfhub.dev/google/nnlm-es-dim128/2\")\n",
    "X_train_embeddings = embed(X_train)\n",
    "X_test_embeddings = embed(X_test)\n"
   ]
  },
  {
   "cell_type": "code",
   "execution_count": 231,
   "metadata": {},
   "outputs": [],
   "source": [
    "train_embedding = pd.DataFrame(X_train_embeddings.numpy())\n",
    "train_emb = train_embedding\n",
    "train_emb['y'] = df_initial['classification']\n",
    "train_emb = train_emb.dropna()"
   ]
  },
  {
   "cell_type": "code",
   "execution_count": 232,
   "metadata": {},
   "outputs": [
    {
     "name": "stdout",
     "output_type": "stream",
     "text": [
      "Parse progress: |████████████████████████████████████████████████████████████████| (done) 100%\n"
     ]
    }
   ],
   "source": [
    "train_embedding_ = h2o.H2OFrame(train_emb, column_names=train_emb.columns.astype(str).to_list(), column_types = {'y': 'enum'})\n",
    "train_embedding_ = train_embedding_.na_omit()"
   ]
  },
  {
   "cell_type": "code",
   "execution_count": 194,
   "metadata": {},
   "outputs": [],
   "source": [
    "X_train_embb = train_embedding_.columns\n",
    "X_train_embb.remove('y')"
   ]
  },
  {
   "cell_type": "code",
   "execution_count": 195,
   "metadata": {},
   "outputs": [],
   "source": [
    "Y_train = 'y'"
   ]
  },
  {
   "cell_type": "code",
   "execution_count": 234,
   "metadata": {},
   "outputs": [
    {
     "name": "stdout",
     "output_type": "stream",
     "text": [
      "AutoML progress: |\n",
      "10:41:52.36: AutoML: XGBoost is not available; skipping it.\n",
      "\n",
      "███████████████████████████████████████████████████████████████| (done) 100%\n"
     ]
    },
    {
     "data": {
      "text/html": [
       "<table class='dataframe'>\n",
       "<thead>\n",
       "<tr><th>model_id                                               </th><th style=\"text-align: right;\">  mean_per_class_error</th><th style=\"text-align: right;\">  logloss</th><th style=\"text-align: right;\">    rmse</th><th style=\"text-align: right;\">     mse</th></tr>\n",
       "</thead>\n",
       "<tbody>\n",
       "<tr><td>DeepLearning_grid_3_AutoML_3_20230501_104152_model_1   </td><td style=\"text-align: right;\">              0.653346</td><td style=\"text-align: right;\">  1.23254</td><td style=\"text-align: right;\">0.681989</td><td style=\"text-align: right;\">0.465109</td></tr>\n",
       "<tr><td>DRF_1_AutoML_3_20230501_104152                         </td><td style=\"text-align: right;\">              0.655865</td><td style=\"text-align: right;\">  1.10938</td><td style=\"text-align: right;\">0.665275</td><td style=\"text-align: right;\">0.44259 </td></tr>\n",
       "<tr><td>DeepLearning_grid_3_AutoML_3_20230501_104152_model_6   </td><td style=\"text-align: right;\">              0.657262</td><td style=\"text-align: right;\">  1.09819</td><td style=\"text-align: right;\">0.662119</td><td style=\"text-align: right;\">0.438401</td></tr>\n",
       "<tr><td>GBM_grid_1_AutoML_3_20230501_104152_model_13           </td><td style=\"text-align: right;\">              0.657466</td><td style=\"text-align: right;\">  1.14969</td><td style=\"text-align: right;\">0.67166 </td><td style=\"text-align: right;\">0.451127</td></tr>\n",
       "<tr><td>DeepLearning_grid_2_AutoML_3_20230501_104152_model_3   </td><td style=\"text-align: right;\">              0.658725</td><td style=\"text-align: right;\">  1.2257 </td><td style=\"text-align: right;\">0.676383</td><td style=\"text-align: right;\">0.457494</td></tr>\n",
       "<tr><td>DeepLearning_grid_2_AutoML_3_20230501_104152_model_5   </td><td style=\"text-align: right;\">              0.659894</td><td style=\"text-align: right;\">  1.14693</td><td style=\"text-align: right;\">0.671739</td><td style=\"text-align: right;\">0.451233</td></tr>\n",
       "<tr><td>GBM_3_AutoML_3_20230501_104152                         </td><td style=\"text-align: right;\">              0.659981</td><td style=\"text-align: right;\">  1.10476</td><td style=\"text-align: right;\">0.664823</td><td style=\"text-align: right;\">0.44199 </td></tr>\n",
       "<tr><td>GBM_4_AutoML_3_20230501_104152                         </td><td style=\"text-align: right;\">              0.660259</td><td style=\"text-align: right;\">  1.11319</td><td style=\"text-align: right;\">0.666268</td><td style=\"text-align: right;\">0.443914</td></tr>\n",
       "<tr><td>XRT_1_AutoML_3_20230501_104152                         </td><td style=\"text-align: right;\">              0.66055 </td><td style=\"text-align: right;\">  1.10654</td><td style=\"text-align: right;\">0.664487</td><td style=\"text-align: right;\">0.441542</td></tr>\n",
       "<tr><td>GBM_grid_1_AutoML_3_20230501_104152_model_11           </td><td style=\"text-align: right;\">              0.6608  </td><td style=\"text-align: right;\">  1.09351</td><td style=\"text-align: right;\">0.663196</td><td style=\"text-align: right;\">0.43983 </td></tr>\n",
       "<tr><td>GBM_grid_1_AutoML_3_20230501_104152_model_4            </td><td style=\"text-align: right;\">              0.660871</td><td style=\"text-align: right;\">  1.11368</td><td style=\"text-align: right;\">0.666262</td><td style=\"text-align: right;\">0.443905</td></tr>\n",
       "<tr><td>DeepLearning_grid_1_AutoML_3_20230501_104152_model_6   </td><td style=\"text-align: right;\">              0.660882</td><td style=\"text-align: right;\">  1.21532</td><td style=\"text-align: right;\">0.6794  </td><td style=\"text-align: right;\">0.461584</td></tr>\n",
       "<tr><td>GBM_1_AutoML_3_20230501_104152                         </td><td style=\"text-align: right;\">              0.660981</td><td style=\"text-align: right;\">  1.10062</td><td style=\"text-align: right;\">0.66412 </td><td style=\"text-align: right;\">0.441055</td></tr>\n",
       "<tr><td>GBM_grid_1_AutoML_3_20230501_104152_model_5            </td><td style=\"text-align: right;\">              0.661464</td><td style=\"text-align: right;\">  1.12835</td><td style=\"text-align: right;\">0.668369</td><td style=\"text-align: right;\">0.446717</td></tr>\n",
       "<tr><td>GBM_grid_1_AutoML_3_20230501_104152_model_2            </td><td style=\"text-align: right;\">              0.662156</td><td style=\"text-align: right;\">  1.09582</td><td style=\"text-align: right;\">0.663755</td><td style=\"text-align: right;\">0.440571</td></tr>\n",
       "<tr><td>GBM_grid_1_AutoML_3_20230501_104152_model_7            </td><td style=\"text-align: right;\">              0.663279</td><td style=\"text-align: right;\">  1.09347</td><td style=\"text-align: right;\">0.663246</td><td style=\"text-align: right;\">0.439896</td></tr>\n",
       "<tr><td>DeepLearning_grid_2_AutoML_3_20230501_104152_model_6   </td><td style=\"text-align: right;\">              0.663404</td><td style=\"text-align: right;\">  1.13297</td><td style=\"text-align: right;\">0.668906</td><td style=\"text-align: right;\">0.447435</td></tr>\n",
       "<tr><td>DeepLearning_grid_1_AutoML_3_20230501_104152_model_1   </td><td style=\"text-align: right;\">              0.663551</td><td style=\"text-align: right;\">  1.56405</td><td style=\"text-align: right;\">0.709919</td><td style=\"text-align: right;\">0.503985</td></tr>\n",
       "<tr><td>DeepLearning_grid_3_AutoML_3_20230501_104152_model_3   </td><td style=\"text-align: right;\">              0.663612</td><td style=\"text-align: right;\">  1.16456</td><td style=\"text-align: right;\">0.672108</td><td style=\"text-align: right;\">0.451729</td></tr>\n",
       "<tr><td>GBM_grid_1_AutoML_3_20230501_104152_model_6            </td><td style=\"text-align: right;\">              0.663642</td><td style=\"text-align: right;\">  1.09859</td><td style=\"text-align: right;\">0.663857</td><td style=\"text-align: right;\">0.440706</td></tr>\n",
       "<tr><td>StackedEnsemble_AllModels_1_AutoML_3_20230501_104152   </td><td style=\"text-align: right;\">              0.664031</td><td style=\"text-align: right;\">  1.08995</td><td style=\"text-align: right;\">0.6621  </td><td style=\"text-align: right;\">0.438377</td></tr>\n",
       "<tr><td>DeepLearning_1_AutoML_3_20230501_104152                </td><td style=\"text-align: right;\">              0.664032</td><td style=\"text-align: right;\">  1.14838</td><td style=\"text-align: right;\">0.671   </td><td style=\"text-align: right;\">0.45024 </td></tr>\n",
       "<tr><td>DeepLearning_grid_3_AutoML_3_20230501_104152_model_2   </td><td style=\"text-align: right;\">              0.664316</td><td style=\"text-align: right;\">  1.14889</td><td style=\"text-align: right;\">0.669599</td><td style=\"text-align: right;\">0.448362</td></tr>\n",
       "<tr><td>DeepLearning_grid_2_AutoML_3_20230501_104152_model_2   </td><td style=\"text-align: right;\">              0.665241</td><td style=\"text-align: right;\">  1.11164</td><td style=\"text-align: right;\">0.666146</td><td style=\"text-align: right;\">0.443751</td></tr>\n",
       "<tr><td>GBM_grid_1_AutoML_3_20230501_104152_model_3            </td><td style=\"text-align: right;\">              0.665668</td><td style=\"text-align: right;\">  1.10253</td><td style=\"text-align: right;\">0.664872</td><td style=\"text-align: right;\">0.442055</td></tr>\n",
       "<tr><td>DeepLearning_grid_1_AutoML_3_20230501_104152_model_2   </td><td style=\"text-align: right;\">              0.666112</td><td style=\"text-align: right;\">  1.3173 </td><td style=\"text-align: right;\">0.691299</td><td style=\"text-align: right;\">0.477895</td></tr>\n",
       "<tr><td>GBM_grid_1_AutoML_3_20230501_104152_model_9            </td><td style=\"text-align: right;\">              0.666444</td><td style=\"text-align: right;\">  1.09768</td><td style=\"text-align: right;\">0.664207</td><td style=\"text-align: right;\">0.441171</td></tr>\n",
       "<tr><td>GBM_grid_1_AutoML_3_20230501_104152_model_8            </td><td style=\"text-align: right;\">              0.6665  </td><td style=\"text-align: right;\">  1.13608</td><td style=\"text-align: right;\">0.670109</td><td style=\"text-align: right;\">0.449046</td></tr>\n",
       "<tr><td>GBM_grid_1_AutoML_3_20230501_104152_model_12           </td><td style=\"text-align: right;\">              0.666505</td><td style=\"text-align: right;\">  1.10247</td><td style=\"text-align: right;\">0.664842</td><td style=\"text-align: right;\">0.442015</td></tr>\n",
       "<tr><td>GLM_1_AutoML_3_20230501_104152                         </td><td style=\"text-align: right;\">              0.666667</td><td style=\"text-align: right;\">  1.09038</td><td style=\"text-align: right;\">0.662483</td><td style=\"text-align: right;\">0.438883</td></tr>\n",
       "<tr><td>StackedEnsemble_BestOfFamily_1_AutoML_3_20230501_104152</td><td style=\"text-align: right;\">              0.666667</td><td style=\"text-align: right;\">  1.09016</td><td style=\"text-align: right;\">0.662456</td><td style=\"text-align: right;\">0.438848</td></tr>\n",
       "<tr><td>DeepLearning_grid_1_AutoML_3_20230501_104152_model_5   </td><td style=\"text-align: right;\">              0.666802</td><td style=\"text-align: right;\">  1.32507</td><td style=\"text-align: right;\">0.691034</td><td style=\"text-align: right;\">0.477528</td></tr>\n",
       "<tr><td>GBM_2_AutoML_3_20230501_104152                         </td><td style=\"text-align: right;\">              0.667021</td><td style=\"text-align: right;\">  1.10413</td><td style=\"text-align: right;\">0.665215</td><td style=\"text-align: right;\">0.442511</td></tr>\n",
       "<tr><td>DeepLearning_grid_2_AutoML_3_20230501_104152_model_4   </td><td style=\"text-align: right;\">              0.668671</td><td style=\"text-align: right;\">  1.57412</td><td style=\"text-align: right;\">0.716014</td><td style=\"text-align: right;\">0.512676</td></tr>\n",
       "<tr><td>GBM_5_AutoML_3_20230501_104152                         </td><td style=\"text-align: right;\">              0.668861</td><td style=\"text-align: right;\">  1.10132</td><td style=\"text-align: right;\">0.6647  </td><td style=\"text-align: right;\">0.441827</td></tr>\n",
       "<tr><td>GBM_grid_1_AutoML_3_20230501_104152_model_1            </td><td style=\"text-align: right;\">              0.669553</td><td style=\"text-align: right;\">  1.13266</td><td style=\"text-align: right;\">0.669868</td><td style=\"text-align: right;\">0.448723</td></tr>\n",
       "<tr><td>DeepLearning_grid_1_AutoML_3_20230501_104152_model_3   </td><td style=\"text-align: right;\">              0.669619</td><td style=\"text-align: right;\">  1.4301 </td><td style=\"text-align: right;\">0.700689</td><td style=\"text-align: right;\">0.490965</td></tr>\n",
       "<tr><td>DeepLearning_grid_3_AutoML_3_20230501_104152_model_4   </td><td style=\"text-align: right;\">              0.669747</td><td style=\"text-align: right;\">  1.63778</td><td style=\"text-align: right;\">0.717411</td><td style=\"text-align: right;\">0.514679</td></tr>\n",
       "<tr><td>DeepLearning_grid_1_AutoML_3_20230501_104152_model_4   </td><td style=\"text-align: right;\">              0.672731</td><td style=\"text-align: right;\">  1.86926</td><td style=\"text-align: right;\">0.731888</td><td style=\"text-align: right;\">0.535661</td></tr>\n",
       "<tr><td>GBM_grid_1_AutoML_3_20230501_104152_model_10           </td><td style=\"text-align: right;\">              0.673544</td><td style=\"text-align: right;\">  1.12364</td><td style=\"text-align: right;\">0.668209</td><td style=\"text-align: right;\">0.446504</td></tr>\n",
       "<tr><td>DeepLearning_grid_2_AutoML_3_20230501_104152_model_1   </td><td style=\"text-align: right;\">              0.674659</td><td style=\"text-align: right;\">  1.32875</td><td style=\"text-align: right;\">0.694286</td><td style=\"text-align: right;\">0.482034</td></tr>\n",
       "<tr><td>DeepLearning_grid_3_AutoML_3_20230501_104152_model_5   </td><td style=\"text-align: right;\">              0.676071</td><td style=\"text-align: right;\">  1.16092</td><td style=\"text-align: right;\">0.677387</td><td style=\"text-align: right;\">0.458853</td></tr>\n",
       "</tbody>\n",
       "</table><pre style='font-size: smaller; margin-bottom: 1em;'>[42 rows x 5 columns]</pre>"
      ],
      "text/plain": [
       "model_id                                                   mean_per_class_error    logloss      rmse       mse\n",
       "-------------------------------------------------------  ----------------------  ---------  --------  --------\n",
       "DeepLearning_grid_3_AutoML_3_20230501_104152_model_1                   0.653346    1.23254  0.681989  0.465109\n",
       "DRF_1_AutoML_3_20230501_104152                                         0.655865    1.10938  0.665275  0.44259\n",
       "DeepLearning_grid_3_AutoML_3_20230501_104152_model_6                   0.657262    1.09819  0.662119  0.438401\n",
       "GBM_grid_1_AutoML_3_20230501_104152_model_13                           0.657466    1.14969  0.67166   0.451127\n",
       "DeepLearning_grid_2_AutoML_3_20230501_104152_model_3                   0.658725    1.2257   0.676383  0.457494\n",
       "DeepLearning_grid_2_AutoML_3_20230501_104152_model_5                   0.659894    1.14693  0.671739  0.451233\n",
       "GBM_3_AutoML_3_20230501_104152                                         0.659981    1.10476  0.664823  0.44199\n",
       "GBM_4_AutoML_3_20230501_104152                                         0.660259    1.11319  0.666268  0.443914\n",
       "XRT_1_AutoML_3_20230501_104152                                         0.66055     1.10654  0.664487  0.441542\n",
       "GBM_grid_1_AutoML_3_20230501_104152_model_11                           0.6608      1.09351  0.663196  0.43983\n",
       "GBM_grid_1_AutoML_3_20230501_104152_model_4                            0.660871    1.11368  0.666262  0.443905\n",
       "DeepLearning_grid_1_AutoML_3_20230501_104152_model_6                   0.660882    1.21532  0.6794    0.461584\n",
       "GBM_1_AutoML_3_20230501_104152                                         0.660981    1.10062  0.66412   0.441055\n",
       "GBM_grid_1_AutoML_3_20230501_104152_model_5                            0.661464    1.12835  0.668369  0.446717\n",
       "GBM_grid_1_AutoML_3_20230501_104152_model_2                            0.662156    1.09582  0.663755  0.440571\n",
       "GBM_grid_1_AutoML_3_20230501_104152_model_7                            0.663279    1.09347  0.663246  0.439896\n",
       "DeepLearning_grid_2_AutoML_3_20230501_104152_model_6                   0.663404    1.13297  0.668906  0.447435\n",
       "DeepLearning_grid_1_AutoML_3_20230501_104152_model_1                   0.663551    1.56405  0.709919  0.503985\n",
       "DeepLearning_grid_3_AutoML_3_20230501_104152_model_3                   0.663612    1.16456  0.672108  0.451729\n",
       "GBM_grid_1_AutoML_3_20230501_104152_model_6                            0.663642    1.09859  0.663857  0.440706\n",
       "StackedEnsemble_AllModels_1_AutoML_3_20230501_104152                   0.664031    1.08995  0.6621    0.438377\n",
       "DeepLearning_1_AutoML_3_20230501_104152                                0.664032    1.14838  0.671     0.45024\n",
       "DeepLearning_grid_3_AutoML_3_20230501_104152_model_2                   0.664316    1.14889  0.669599  0.448362\n",
       "DeepLearning_grid_2_AutoML_3_20230501_104152_model_2                   0.665241    1.11164  0.666146  0.443751\n",
       "GBM_grid_1_AutoML_3_20230501_104152_model_3                            0.665668    1.10253  0.664872  0.442055\n",
       "DeepLearning_grid_1_AutoML_3_20230501_104152_model_2                   0.666112    1.3173   0.691299  0.477895\n",
       "GBM_grid_1_AutoML_3_20230501_104152_model_9                            0.666444    1.09768  0.664207  0.441171\n",
       "GBM_grid_1_AutoML_3_20230501_104152_model_8                            0.6665      1.13608  0.670109  0.449046\n",
       "GBM_grid_1_AutoML_3_20230501_104152_model_12                           0.666505    1.10247  0.664842  0.442015\n",
       "GLM_1_AutoML_3_20230501_104152                                         0.666667    1.09038  0.662483  0.438883\n",
       "StackedEnsemble_BestOfFamily_1_AutoML_3_20230501_104152                0.666667    1.09016  0.662456  0.438848\n",
       "DeepLearning_grid_1_AutoML_3_20230501_104152_model_5                   0.666802    1.32507  0.691034  0.477528\n",
       "GBM_2_AutoML_3_20230501_104152                                         0.667021    1.10413  0.665215  0.442511\n",
       "DeepLearning_grid_2_AutoML_3_20230501_104152_model_4                   0.668671    1.57412  0.716014  0.512676\n",
       "GBM_5_AutoML_3_20230501_104152                                         0.668861    1.10132  0.6647    0.441827\n",
       "GBM_grid_1_AutoML_3_20230501_104152_model_1                            0.669553    1.13266  0.669868  0.448723\n",
       "DeepLearning_grid_1_AutoML_3_20230501_104152_model_3                   0.669619    1.4301   0.700689  0.490965\n",
       "DeepLearning_grid_3_AutoML_3_20230501_104152_model_4                   0.669747    1.63778  0.717411  0.514679\n",
       "DeepLearning_grid_1_AutoML_3_20230501_104152_model_4                   0.672731    1.86926  0.731888  0.535661\n",
       "GBM_grid_1_AutoML_3_20230501_104152_model_10                           0.673544    1.12364  0.668209  0.446504\n",
       "DeepLearning_grid_2_AutoML_3_20230501_104152_model_1                   0.674659    1.32875  0.694286  0.482034\n",
       "DeepLearning_grid_3_AutoML_3_20230501_104152_model_5                   0.676071    1.16092  0.677387  0.458853\n",
       "[42 rows x 5 columns]\n"
      ]
     },
     "execution_count": 234,
     "metadata": {},
     "output_type": "execute_result"
    }
   ],
   "source": [
    "aml_2 = H2OAutoML(max_models=40, seed=1)\n",
    "aml_2.train(x=X_train_embb, y=Y_train, training_frame=train_embedding_)\n",
    "\n",
    "# View the AutoML Leaderboard\n",
    "lb_2 = aml_2.leaderboard\n",
    "lb_2.head(rows=lb_2.nrows)  # Print all rows instead of default (10 rows)"
   ]
  },
  {
   "cell_type": "code",
   "execution_count": 235,
   "metadata": {},
   "outputs": [
    {
     "name": "stdout",
     "output_type": "stream",
     "text": [
      "Parse progress: |████████████████████████████████████████████████████████████████| (done) 100%\n"
     ]
    }
   ],
   "source": [
    "test_embeddings = pd.DataFrame(X_test_embeddings.numpy())\n",
    "test_embed = test_embeddings\n",
    "test_embed['y'] = df_final.classification\n",
    "\n",
    "\n",
    "test_embed_ = h2o.H2OFrame(test_embed, column_names=test_embed.columns.astype(str).to_list(), column_types = {'y': 'enum'})\n",
    "test_embed_ = test_embed_.na_omit()"
   ]
  },
  {
   "cell_type": "code",
   "execution_count": 236,
   "metadata": {},
   "outputs": [],
   "source": [
    "m_2 = aml_2.get_best_model()\n"
   ]
  },
  {
   "cell_type": "code",
   "execution_count": 238,
   "metadata": {},
   "outputs": [
    {
     "name": "stdout",
     "output_type": "stream",
     "text": [
      "deeplearning prediction progress: |██████████████████████████████████████████████| (done) 100%\n"
     ]
    }
   ],
   "source": [
    "preds_2 = m_2.predict(test_embed_)"
   ]
  },
  {
   "cell_type": "code",
   "execution_count": 240,
   "metadata": {},
   "outputs": [],
   "source": [
    "df_salida_2 = preds_2.as_data_frame()"
   ]
  },
  {
   "cell_type": "code",
   "execution_count": 242,
   "metadata": {},
   "outputs": [
    {
     "data": {
      "image/png": "[encoded data removed]",
      "text/plain": [
       "<Figure size 640x480 with 1 Axes>"
      ]
     },
     "metadata": {},
     "output_type": "display_data"
    }
   ],
   "source": [
    "sns.heatmap(confusion_matrix(y_test,df_salida_2.predict, normalize = 'true'),\n",
    "            annot=True,fmt='.2%', cmap = 'Blues', cbar = False);\n",
    "\n",
    "plt.title('Real vs pred')\n",
    "plt.xlabel('Predicted values')\n",
    "plt.ylabel('Real values');\n",
    "    \n",
    "plt.show()"
   ]
  },
  {
   "cell_type": "code",
   "execution_count": 243,
   "metadata": {},
   "outputs": [
    {
     "name": "stdout",
     "output_type": "stream",
     "text": [
      "              precision    recall  f1-score   support\n",
      "\n",
      "           0       0.42      0.44      0.43      2939\n",
      "           1       0.26      0.38      0.31      1966\n",
      "           2       0.34      0.20      0.25      2359\n",
      "\n",
      "    accuracy                           0.34      7264\n",
      "   macro avg       0.34      0.34      0.33      7264\n",
      "weighted avg       0.35      0.34      0.34      7264\n",
      "\n"
     ]
    }
   ],
   "source": [
    "print(classification_report(y_test,df_salida_2.predict))"
   ]
  }
 ],
 "metadata": {
  "kernelspec": {
   "display_name": "Python 3.9.13 64-bit (microsoft store)",
   "language": "python",
   "name": "python3"
  },
  "language_info": {
   "codemirror_mode": {
    "name": "ipython",
    "version": 3
   },
   "file_extension": ".py",
   "mimetype": "text/x-python",
   "name": "python",
   "nbconvert_exporter": "python",
   "pygments_lexer": "ipython3",
   "version": "3.11.3"
  },
  "orig_nbformat": 4,
  "vscode": {
   "interpreter": {
    "hash": "58f55ff87f7cda7e242f92c88625c5afa1638faf099996a7cff05549d0eae7ed"
   }
  }
 },
 "nbformat": 4,
 "nbformat_minor": 2
}
